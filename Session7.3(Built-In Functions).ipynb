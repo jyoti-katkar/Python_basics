{
 "cells": [
  {
   "cell_type": "markdown",
   "metadata": {},
   "source": [
    "#                 BUILT-IN FUNCTION\n",
    "\n",
    "        * Built-in Python function are always available on command.\n",
    "        * As of Python 3.6, there are a total of 68 built-in functions.\n",
    "        * Link to official Doc -\n",
    "        * 12 Built-In Functions:-\n",
    "                max()\n",
    "                min()\n",
    "                sum()\n",
    "                round()\n",
    "                abs()\n",
    "                print()\n",
    "                pow()\n",
    "                sorted()\n",
    "                eval()\n",
    "                format()\n",
    "                any()\n",
    "                all()"
   ]
  },
  {
   "cell_type": "code",
   "execution_count": 3,
   "metadata": {},
   "outputs": [
    {
     "data": {
      "text/plain": [
       "[83, 14, 64, 71, 11, 36, 69, 72, 45, 93]"
      ]
     },
     "execution_count": 3,
     "metadata": {},
     "output_type": "execute_result"
    }
   ],
   "source": [
    "import random as rd\n",
    "rd.seed(10)\n",
    "\n",
    "numbers=rd.sample(range(10,100),k=10)\n",
    "numbers"
   ]
  },
  {
   "cell_type": "code",
   "execution_count": 4,
   "metadata": {},
   "outputs": [
    {
     "data": {
      "text/plain": [
       "93"
      ]
     },
     "execution_count": 4,
     "metadata": {},
     "output_type": "execute_result"
    }
   ],
   "source": [
    "max(numbers)\n",
    "\n",
    "min(numbers)\n",
    "\n",
    "sum(numbers)\n",
    "\n",
    "round(2.32654,2)\n",
    "\n",
    "round(2.12456,4)\n",
    "\n",
    "abs(-253)\n",
    "\n",
    "abs(10)\n",
    "\n",
    "eval(\"4.5\")\n",
    "\n",
    "eval('10')\n",
    "\n",
    "pow(10,2)\n",
    "\n",
    "pow(5,3)"
   ]
  },
  {
   "cell_type": "code",
   "execution_count": 26,
   "metadata": {},
   "outputs": [
    {
     "data": {
      "text/plain": [
       "[83, 14, 64, 71, 11, 36, 69, 72, 45, 93]"
      ]
     },
     "execution_count": 26,
     "metadata": {},
     "output_type": "execute_result"
    }
   ],
   "source": [
    "numbers"
   ]
  },
  {
   "cell_type": "code",
   "execution_count": 28,
   "metadata": {},
   "outputs": [
    {
     "data": {
      "text/plain": [
       "[11, 14, 36, 45, 64, 69, 71, 72, 83, 93]"
      ]
     },
     "execution_count": 28,
     "metadata": {},
     "output_type": "execute_result"
    }
   ],
   "source": [
    "num=sorted(numbers)\n",
    "num"
   ]
  },
  {
   "cell_type": "code",
   "execution_count": 35,
   "metadata": {},
   "outputs": [
    {
     "data": {
      "text/plain": [
       "[121, 196, 1296, 2025, 4096, 4761, 5041, 5184, 6889, 8649]"
      ]
     },
     "execution_count": 35,
     "metadata": {},
     "output_type": "execute_result"
    }
   ],
   "source": [
    "[pow(x,2) for x in num]"
   ]
  },
  {
   "cell_type": "code",
   "execution_count": 38,
   "metadata": {},
   "outputs": [
    {
     "data": {
      "text/plain": [
       "3"
      ]
     },
     "execution_count": 38,
     "metadata": {},
     "output_type": "execute_result"
    }
   ],
   "source": [
    "sum([i < 40 for i in num])"
   ]
  },
  {
   "cell_type": "code",
   "execution_count": 39,
   "metadata": {},
   "outputs": [
    {
     "data": {
      "text/plain": [
       "['10', 8.12345, 100, -30, -200]"
      ]
     },
     "execution_count": 39,
     "metadata": {},
     "output_type": "execute_result"
    }
   ],
   "source": [
    "data=[\"10\",8.12345,100,-30,-200]\n",
    "data"
   ]
  },
  {
   "cell_type": "code",
   "execution_count": 41,
   "metadata": {},
   "outputs": [
    {
     "data": {
      "text/plain": [
       "348"
      ]
     },
     "execution_count": 41,
     "metadata": {},
     "output_type": "execute_result"
    }
   ],
   "source": [
    "new_data=eval(data[0]) + int(data[1]) + data[2] + abs(data[3]) + abs(data[4])\n",
    "new_data"
   ]
  },
  {
   "cell_type": "code",
   "execution_count": 52,
   "metadata": {},
   "outputs": [
    {
     "data": {
      "text/plain": [
       "'The top tree values 200, 100, and 30. My favourite number is 200'"
      ]
     },
     "execution_count": 52,
     "metadata": {},
     "output_type": "execute_result"
    }
   ],
   "source": [
    "\"The top tree values {0}, {1}, and {2}. My favourite number is {0}\".format(*clear_data)"
   ]
  },
  {
   "cell_type": "code",
   "execution_count": 51,
   "metadata": {},
   "outputs": [
    {
     "data": {
      "text/plain": [
       "[200, 100, 30]"
      ]
     },
     "execution_count": 51,
     "metadata": {},
     "output_type": "execute_result"
    }
   ],
   "source": [
    "clear_data=sorted(abs(k) for k in [int(i) for i in data])[2:][3::-1]\n",
    "clear_data"
   ]
  },
  {
   "cell_type": "code",
   "execution_count": null,
   "metadata": {},
   "outputs": [],
   "source": []
  }
 ],
 "metadata": {
  "kernelspec": {
   "display_name": "Python 3",
   "language": "python",
   "name": "python3"
  },
  "language_info": {
   "codemirror_mode": {
    "name": "ipython",
    "version": 3
   },
   "file_extension": ".py",
   "mimetype": "text/x-python",
   "name": "python",
   "nbconvert_exporter": "python",
   "pygments_lexer": "ipython3",
   "version": "3.7.4"
  }
 },
 "nbformat": 4,
 "nbformat_minor": 2
}
