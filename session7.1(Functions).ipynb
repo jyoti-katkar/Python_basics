{
 "cells": [
  {
   "cell_type": "markdown",
   "metadata": {},
   "source": [
    "#                          FUNCTIONS\n",
    "\n",
    "           * Reduces the amount of code\n",
    "           * Can be called anywhere in the notebook or cell\n",
    "           * Functions must be given a name\n",
    "           * Can contain multiple parameters or none at all\n",
    "           * A parameter can have default values"
   ]
  },
  {
   "cell_type": "code",
   "execution_count": 6,
   "metadata": {},
   "outputs": [
    {
     "name": "stdout",
     "output_type": "stream",
     "text": [
      "130\n"
     ]
    }
   ],
   "source": [
    "def square(arg1,arg2):\n",
    "   # return arg1 + arg2\n",
    "    print(arg1 + arg2)\n",
    "square(80,50)"
   ]
  },
  {
   "cell_type": "code",
   "execution_count": 7,
   "metadata": {},
   "outputs": [
    {
     "name": "stdout",
     "output_type": "stream",
     "text": [
      "30\n"
     ]
    }
   ],
   "source": [
    "num=square(10,20)\n",
    "num"
   ]
  },
  {
   "cell_type": "code",
   "execution_count": 15,
   "metadata": {},
   "outputs": [
    {
     "data": {
      "text/plain": [
       "15"
      ]
     },
     "execution_count": 15,
     "metadata": {},
     "output_type": "execute_result"
    }
   ],
   "source": [
    "def numbers(n1=5,n2=3):\n",
    "    \"\"\"This is multiplication of 2 no\"\"\"#shift tab to check docstring\n",
    "    return n1*n2                    \n",
    "mult=numbers()\n",
    "mult"
   ]
  },
  {
   "cell_type": "code",
   "execution_count": 10,
   "metadata": {},
   "outputs": [
    {
     "data": {
      "text/plain": [
       "72"
      ]
     },
     "execution_count": 10,
     "metadata": {},
     "output_type": "execute_result"
    }
   ],
   "source": [
    "mult=numbers(8,9)\n",
    "mult"
   ]
  },
  {
   "cell_type": "code",
   "execution_count": 16,
   "metadata": {},
   "outputs": [
    {
     "data": {
      "text/plain": [
       "function"
      ]
     },
     "execution_count": 16,
     "metadata": {},
     "output_type": "execute_result"
    }
   ],
   "source": [
    "type(numbers)"
   ]
  },
  {
   "cell_type": "code",
   "execution_count": 20,
   "metadata": {},
   "outputs": [
    {
     "name": "stdout",
     "output_type": "stream",
     "text": [
      "16\n",
      "64\n",
      "256\n"
     ]
    },
    {
     "data": {
      "text/plain": [
       "336"
      ]
     },
     "execution_count": 20,
     "metadata": {},
     "output_type": "execute_result"
    }
   ],
   "source": [
    "def squared(num):\n",
    "    return num**2\n",
    "\n",
    "def cubed(num):\n",
    "    return num**3\n",
    "\n",
    "def quad(num):\n",
    "    return num**4\n",
    "\n",
    "v=4\n",
    "print(squared(v))\n",
    "print(cubed(v))\n",
    "print(quad(v))\n",
    "total=squared(v) + cubed(v) + quad(v)\n",
    "total"
   ]
  },
  {
   "cell_type": "code",
   "execution_count": 33,
   "metadata": {},
   "outputs": [],
   "source": [
    "def greet():\n",
    "    \"\"\" Enter the time and print appropriate greeting\"\"\"\n",
    "    time=eval(input(\"Enter the time\"))\n",
    "    \n",
    "    if time >=6 and time < 12:\n",
    "              print(\"Good morning!\")\n",
    "              return squared(time)\n",
    "    elif time >=12 and time < 18:\n",
    "              print(\"Afternoon!\")\n",
    "              return cubed(time)\n",
    "    elif time >=10 and time < 21:\n",
    "              print(\"Good Evening!\")\n",
    "              return quad(time)\n",
    "    else:\n",
    "              print(\"Good Night!\")\n",
    "              return time"
   ]
  },
  {
   "cell_type": "code",
   "execution_count": 35,
   "metadata": {},
   "outputs": [
    {
     "name": "stdout",
     "output_type": "stream",
     "text": [
      "Enter the time14\n",
      "Afternoon!\n"
     ]
    },
    {
     "data": {
      "text/plain": [
       "2744"
      ]
     },
     "execution_count": 35,
     "metadata": {},
     "output_type": "execute_result"
    }
   ],
   "source": [
    "greet()"
   ]
  },
  {
   "cell_type": "code",
   "execution_count": 37,
   "metadata": {},
   "outputs": [
    {
     "name": "stdout",
     "output_type": "stream",
     "text": [
      "Enter the time12\n",
      "Afternoon!\n"
     ]
    }
   ],
   "source": [
    "hello=greet()"
   ]
  },
  {
   "cell_type": "code",
   "execution_count": 39,
   "metadata": {},
   "outputs": [
    {
     "data": {
      "text/plain": [
       "1728"
      ]
     },
     "execution_count": 39,
     "metadata": {},
     "output_type": "execute_result"
    }
   ],
   "source": [
    "hello # value of return statement is assigned to the hello variable"
   ]
  },
  {
   "cell_type": "code",
   "execution_count": null,
   "metadata": {},
   "outputs": [],
   "source": []
  }
 ],
 "metadata": {
  "kernelspec": {
   "display_name": "Python 3",
   "language": "python",
   "name": "python3"
  },
  "language_info": {
   "codemirror_mode": {
    "name": "ipython",
    "version": 3
   },
   "file_extension": ".py",
   "mimetype": "text/x-python",
   "name": "python",
   "nbconvert_exporter": "python",
   "pygments_lexer": "ipython3",
   "version": "3.7.4"
  }
 },
 "nbformat": 4,
 "nbformat_minor": 2
}
