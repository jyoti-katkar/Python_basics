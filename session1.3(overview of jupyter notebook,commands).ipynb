{
 "cells": [
  {
   "cell_type": "code",
   "execution_count": null,
   "metadata": {},
   "outputs": [],
   "source": [
    "print(\"hello\")# press shift and click on blue colour part of cell + click on next cell blue colour part + then press m\n",
    "                  #to merge the cell\n",
    "\n",
    "pri"
   ]
  },
  {
   "cell_type": "code",
   "execution_count": null,
   "metadata": {},
   "outputs": [],
   "source": [
    "nt(\"world!\") #ctrl+shift+minus singn=to devide cell in two from one cell."
   ]
  },
  {
   "cell_type": "code",
   "execution_count": null,
   "metadata": {},
   "outputs": [],
   "source": [
    "print(\"Hello World..!\")\n",
    "print(\"Hello World..!\")\n",
    "print(\"Hello World..!\")\n",
    "print(\"Hello World..!\")\n",
    "# for multiline press ctrl+command button and just simply \n",
    "#left click on course line below.\n",
    "\n",
    "print(\"hold ctrl + command and just left click for multiline..\")\n",
    "print(\"hold ctrl + command and just left click for multiline..\")\n",
    "print(\"hold ctrl + co mmand and just left click for multiline..\")\n",
    "print(\"hold ctrl + command and just left click for multiline..\")\n",
    "print(\"hold ctrl + command and just left click for multiline..\")\n",
    "# to number the line click on cell blue area press shift +l"
   ]
  },
  {
   "cell_type": "code",
   "execution_count": null,
   "metadata": {},
   "outputs": [],
   "source": []
  },
  {
   "cell_type": "raw",
   "metadata": {},
   "source": [
    "# to number the line click on cell blue area press shift +l\n",
    "#to copy --- press shift+c in the cell blue area\n",
    "# to paste---press shift+v in the cell blue area where want to paste\n",
    "# to save notbook ----press s in main window \n",
    "# want new cell btwn two cell select first cell and press b\n",
    "# want new cell above any cell select that cell and press a\n",
    "#to select all press ctrl+a\n",
    "#to undo-ctrl+z\n",
    "#to redo-ctrl+y\n"
   ]
  },
  {
   "cell_type": "markdown",
   "metadata": {},
   "source": [
    "# ctrl+ A --- Select all\n",
    "# ctrl+ C --- Copy\n",
    "# ctrl+ V --- Paste\n",
    "# ctrl+ X --- Cut\n",
    "# ctrl+ Z --- Undo\n",
    "# ctrl+ Y --- Redo\n",
    "# ctrl+ F --- Find\n",
    "# ctrl+ S --- Save"
   ]
  },
  {
   "cell_type": "code",
   "execution_count": null,
   "metadata": {},
   "outputs": [],
   "source": []
  },
  {
   "cell_type": "code",
   "execution_count": null,
   "metadata": {},
   "outputs": [],
   "source": []
  },
  {
   "cell_type": "code",
   "execution_count": null,
   "metadata": {
    "scrolled": false
   },
   "outputs": [],
   "source": []
  },
  {
   "cell_type": "code",
   "execution_count": null,
   "metadata": {},
   "outputs": [],
   "source": []
  }
 ],
 "metadata": {
  "kernelspec": {
   "display_name": "Python 3",
   "language": "python",
   "name": "python3"
  },
  "language_info": {
   "codemirror_mode": {
    "name": "ipython",
    "version": 3
   },
   "file_extension": ".py",
   "mimetype": "text/x-python",
   "name": "python",
   "nbconvert_exporter": "python",
   "pygments_lexer": "ipython3",
   "version": "3.7.4"
  }
 },
 "nbformat": 4,
 "nbformat_minor": 2
}
