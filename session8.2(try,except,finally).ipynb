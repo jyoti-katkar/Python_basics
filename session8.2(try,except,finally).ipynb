{
 "cells": [
  {
   "cell_type": "markdown",
   "metadata": {},
   "source": [
    "# TRY, EXCEPT AND FINALLY!"
   ]
  },
  {
   "cell_type": "markdown",
   "metadata": {},
   "source": [
    "* Python will output different types of error notifications. These include:\n",
    "\n",
    "    TypeError\n",
    "    NameError\n",
    "    AttributeError\n",
    "    IndentationError\n",
    "    SyntaxError\n",
    "    \n",
    " * Python allows us to manage the output error instead of relying on Python itself.\n",
    " * This is where try, except and finally clauses come in.\n",
    " * These clauses can prevent errors from being fatal to your code."
   ]
  },
  {
   "cell_type": "code",
   "execution_count": 1,
   "metadata": {},
   "outputs": [
    {
     "name": "stdout",
     "output_type": "stream",
     "text": [
      "100\n",
      "END CODE\n"
     ]
    }
   ],
   "source": [
    "try:\n",
    "    print(10 + 90)\n",
    "except:\n",
    "    for i in range(3):\n",
    "        print(i)\n",
    "finally:\n",
    "    print(\"END CODE\")"
   ]
  },
  {
   "cell_type": "code",
   "execution_count": 2,
   "metadata": {},
   "outputs": [
    {
     "name": "stdout",
     "output_type": "stream",
     "text": [
      "Type Error Found!\n",
      "STRING: 10 hello\n",
      "END CODE!\n"
     ]
    }
   ],
   "source": [
    "def error(var):\n",
    "        try:\n",
    "            return 10 + var\n",
    "        except:\n",
    "            print(\"Type Error Found!\")\n",
    "            print(\"STRING: \" + str(10) + \" \" + var)\n",
    "        finally:\n",
    "            print(\"END CODE!\")\n",
    "        \n",
    "error(\"hello\")"
   ]
  },
  {
   "cell_type": "code",
   "execution_count": 3,
   "metadata": {},
   "outputs": [
    {
     "name": "stdout",
     "output_type": "stream",
     "text": [
      "can't be divided or divide by a string\n",
      "executing finally clause\n"
     ]
    }
   ],
   "source": [
    "def divide(x, y):\n",
    "    try:\n",
    "        res = x / y\n",
    "        return res\n",
    "    except ZeroDivisionError:\n",
    "        print(\"Division by zero is forbidden!\")\n",
    "    except TypeError:\n",
    "        print(\"can't be divided or divide by a string\")\n",
    "    finally:\n",
    "        print(\"executing finally clause\")\n",
    "        \n",
    "divide(\"10\", \"hello\")"
   ]
  },
  {
   "cell_type": "code",
   "execution_count": 6,
   "metadata": {},
   "outputs": [
    {
     "name": "stdout",
     "output_type": "stream",
     "text": [
      "Enter a valid integer: f\n"
     ]
    }
   ],
   "source": [
    "while True:\n",
    "    try:\n",
    "        x = (input(\"Enter a valid integer: \"))\n",
    "        break\n",
    "    except:\n",
    "        print(\"Invalid input!\")"
   ]
  },
  {
   "cell_type": "code",
   "execution_count": 8,
   "metadata": {},
   "outputs": [
    {
     "name": "stdout",
     "output_type": "stream",
     "text": [
      "Enter an integer: 2\n",
      "Not in numbers list\n",
      "Enter an integer: 10 20 30\n",
      "Try again, please!\n",
      "Enter an integer: 10\n",
      "10 is in numbers\n"
     ]
    }
   ],
   "source": [
    "numbers = 10, 20, 30, 40\n",
    "chance = 0\n",
    "while chance < 3:\n",
    "    try:\n",
    "        num = input(\"Enter an integer: \")\n",
    "        if eval(num) in numbers:\n",
    "            print(num, \"is in numbers\")\n",
    "            break\n",
    "        elif num == \"quit\":\n",
    "             break\n",
    "        else:\n",
    "            print(\"Not in numbers list\")\n",
    "            chance = chance + 1\n",
    "    except:\n",
    "        print(\"Try again, please!\")\n",
    "        chance = chance + 1\n",
    "        continue\n",
    "    # finally:\n",
    "    # print(\"End code!\")"
   ]
  },
  {
   "cell_type": "code",
   "execution_count": 17,
   "metadata": {},
   "outputs": [
    {
     "name": "stdout",
     "output_type": "stream",
     "text": [
      "Please select a friend: 2\n",
      "dog\n",
      "________\n",
      "bird\n",
      "cat\n",
      "dog\n",
      "cow\n",
      "lamb\n",
      "pig\n",
      "____END LOOP___\n"
     ]
    }
   ],
   "source": [
    "def friends():\n",
    "    animals = \"bird\", \"cat\", \"dog\", \"cow\", \"lamb\", \"pig\"\n",
    "    try:\n",
    "        num = int(eval(input(\"Please select a friend: \")))\n",
    "        try:\n",
    "            if animals[num] in animals:\n",
    "                print(animals[num])\n",
    "        except:\n",
    "            print(\"You did not choose a friend!\")\n",
    "        finally:\n",
    "            print(\"________\")\n",
    "            for pet in animals:\n",
    "                print(pet)\n",
    "            print(\"____END LOOP___\")\n",
    "    except:\n",
    "        print(\"You did not enter a valid index!\")\n",
    "    \n",
    "friends()\n",
    "\n"
   ]
  },
  {
   "cell_type": "code",
   "execution_count": null,
   "metadata": {},
   "outputs": [],
   "source": []
  }
 ],
 "metadata": {
  "kernelspec": {
   "display_name": "Python 3",
   "language": "python",
   "name": "python3"
  },
  "language_info": {
   "codemirror_mode": {
    "name": "ipython",
    "version": 3
   },
   "file_extension": ".py",
   "mimetype": "text/x-python",
   "name": "python",
   "nbconvert_exporter": "python",
   "pygments_lexer": "ipython3",
   "version": "3.7.4"
  }
 },
 "nbformat": 4,
 "nbformat_minor": 2
}
