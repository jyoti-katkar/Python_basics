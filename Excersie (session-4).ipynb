{
 "cells": [
  {
   "cell_type": "markdown",
   "metadata": {},
   "source": [
    "#                    CONTROL FLOW EXERCISE\n",
    "\n",
    "                        TASK 1: CONTROL FLOW WITH DICTIONARY\n",
    "            WORK WITH:\n",
    "                d1 = {\"k1\": [1,2,3, (100, 300, 500)], \"k2\": [4,5,6, [\"phone\",\"computer\", \"robot\"]]}\n",
    "                var = eval(input(\"Enter a number: \"))\n",
    "                if #Add Code Here:\n",
    "                     print(\"found you!\")\n",
    "                     num = input(\"Enter a number: \")\n",
    "                     # Add Code VV\n",
    "                       (num) in d1[\"k2\"][:3]:\n",
    "                            print(\"Found another one!\")\n",
    "                            item = input(\"Enter an item: \")\n",
    "                            if item in d1[\"k2\"][3]:\n",
    "                                print(\"Got a\", item)\n",
    "                            else:\n",
    "                                print(\"Can't find a\", item)\n",
    "                     # Add Code Here\n",
    "                            print(\"Can't find anything!\")\n",
    "                elif #Add Code Here:\n",
    "                      print(\"can't hide!\")\n",
    "                else:\n",
    "                      print(\"Where are you?\")\n",
    "\n",
    "\n",
    "        * DESIRED OUTPUT 1:\n",
    "                Enter a number: 3\n",
    "                found you!\n",
    "                Enter a number: 4\n",
    "                Found another one!\n",
    "                Enter an item: car\n",
    "                Can't find a car\n",
    "        * DESIRED OUTPUT 2\n",
    "                Enter a number: 4\n",
    "                Where are you?\n",
    "                \n",
    "        * HINTS?\n",
    "                1. For the output control flow, check if var is in \"k1\".\n",
    "                2. Else if var is in \"k1\"[3].\n",
    "                3. Create an inner or nested control flow.\n",
    "                4. You should have multiple outputs depending on your two inputs for both var and num.\n",
    "                5. Add the in operator in 2 lines of code for the outer control flow.\n",
    "                6. Use the eval for one of the control flow statements."
   ]
  },
  {
   "cell_type": "code",
   "execution_count": 37,
   "metadata": {},
   "outputs": [
    {
     "data": {
      "text/plain": [
       "{'k1': [1, 2, 3, (100, 300, 500)],\n",
       " 'k2': [4, 5, 6, ['phone', 'computer', 'robot']]}"
      ]
     },
     "execution_count": 37,
     "metadata": {},
     "output_type": "execute_result"
    }
   ],
   "source": [
    "d1 = {\"k1\": [1,2,3, (100, 300, 500)], \n",
    "     \"k2\": [4,5,6, [\"phone\",\"computer\", \"robot\"]]\n",
    "       }\n",
    "d1"
   ]
  },
  {
   "cell_type": "code",
   "execution_count": 44,
   "metadata": {},
   "outputs": [
    {
     "name": "stdout",
     "output_type": "stream",
     "text": [
      "Enter a number: 2\n",
      "found you!\n",
      "Enter a number: 4\n",
      "Found another one!\n",
      "Enter an item: nj\n",
      "Can't find a nj\n"
     ]
    }
   ],
   "source": [
    "var = eval(input(\"Enter a number: \"))\n",
    "    \n",
    "if var in d1[\"k1\"]:\n",
    "    print(\"found you!\")\n",
    "    num=eval(input(\"Enter a number: \"))\n",
    "    if num in d1[\"k2\"][:3]:\n",
    "            print(\"Found another one!\")\n",
    "            item=input(\"Enter an item: \")\n",
    "            if item in d1[\"k2\"][3]:\n",
    "                print(\"Got a \",item)\n",
    "            else:\n",
    "                print(\"Can't find a\", item)\n",
    "    else:\n",
    "         print(\"Can't find anything!\")\n",
    "\n",
    "elif var in d1[\"k1\"][3]:\n",
    "               print(\"can't hide!\")\n",
    "else:\n",
    "               print(\"Where are you?\")           "
   ]
  },
  {
   "cell_type": "code",
   "execution_count": null,
   "metadata": {},
   "outputs": [],
   "source": []
  },
  {
   "cell_type": "markdown",
   "metadata": {},
   "source": [
    "# TASK 2: CONTROL FLOW WITH ONLY ONE IF STATEMENT\n",
    "\n",
    "            WORK WITH:\n",
    "            \n",
    "                choose_dish = input(\"Enter a number 0 to 2: \")\n",
    "                pick_sauce = input(\"Enter a number 0 to 2: \")\n",
    "                cooked_pasta = [\"hot\", \"cold\", \"over cooked\"]\n",
    "                sauce = [\"spicy\", \"sweet\", \"savoury\"]\n",
    "                print(\"My meal is\", cooked_pasta, \"and very\", sauce, \"!\")\n",
    "                \n",
    "            DESIRED OUTPUT:\n",
    "                    Enter a number 0 to 2: 0\n",
    "                    Enter a number 0 to 2: 0\n",
    "                    My meal is hot and very spicy !\n",
    "            HINTS?\n",
    "                1. Use only ONE if statement and an else statement.\n",
    "                2. Use eval built-in function or method.\n",
    "                3. Use indexing.\n",
    "                4. Use the None type object as the only output for the if statement.\n",
    "                5. Use the following operators:\n",
    "                \n",
    "                and\n",
    "                or\n",
    "                >\n",
    "                <"
   ]
  },
  {
   "cell_type": "code",
   "execution_count": 11,
   "metadata": {},
   "outputs": [
    {
     "name": "stdout",
     "output_type": "stream",
     "text": [
      "Enter a number 0 to 2: 2\n",
      "Enter a number 0 to 2: 0\n",
      "My meal is over cooked and very spicy !\n"
     ]
    }
   ],
   "source": [
    "choose_dish = eval(input(\"Enter a number 0 to 2: \"))\n",
    "pick_sauce = eval(input(\"Enter a number 0 to 2: \"))\n",
    "\n",
    "if (choose_dish >2 and pick_sauce >2)or (choose_dish <=2 and pick_sauce >2)or (choose_dish >2 and pick_sauce<=2):\n",
    "\n",
    "    None\n",
    "    \n",
    "\n",
    "else:\n",
    "    cooked_pasta = [\"hot\", \"cold\", \"over cooked\"][choose_dish]\n",
    "    sauce = [\"spicy\", \"sweet\", \"savoury\"][pick_sauce]\n",
    "    print(\"My meal is\",cooked_pasta, \"and very\", sauce ,\"!\")\n",
    "    \n",
    "    "
   ]
  },
  {
   "cell_type": "code",
   "execution_count": null,
   "metadata": {},
   "outputs": [],
   "source": []
  },
  {
   "cell_type": "code",
   "execution_count": null,
   "metadata": {},
   "outputs": [],
   "source": []
  }
 ],
 "metadata": {
  "kernelspec": {
   "display_name": "Python 3",
   "language": "python",
   "name": "python3"
  },
  "language_info": {
   "codemirror_mode": {
    "name": "ipython",
    "version": 3
   },
   "file_extension": ".py",
   "mimetype": "text/x-python",
   "name": "python",
   "nbconvert_exporter": "python",
   "pygments_lexer": "ipython3",
   "version": "3.7.4"
  }
 },
 "nbformat": 4,
 "nbformat_minor": 2
}
