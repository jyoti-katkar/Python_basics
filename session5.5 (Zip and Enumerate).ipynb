{
 "cells": [
  {
   "cell_type": "markdown",
   "metadata": {},
   "source": [
    "#                     ZIP AND ENUMERATE\n",
    "    \n",
    "    * ZIP :\n",
    "            zip can combine elements from two or more lists into nested tuples.\n",
    "\n",
    "    * ENUMERATE\n",
    "            enumerate can generate an integer number next to each output.\n",
    "            \n",
    "            \n",
    "###                BOTH CAN BE EASILY REPLACED"
   ]
  },
  {
   "cell_type": "code",
   "execution_count": 8,
   "metadata": {},
   "outputs": [
    {
     "name": "stdout",
     "output_type": "stream",
     "text": [
      "200 10\n",
      "201 15\n",
      "202 20\n",
      "203 25\n",
      "204 30\n",
      "205 35\n"
     ]
    }
   ],
   "source": [
    "for c,i in enumerate(range(10,40,5),200):\n",
    "    print(c,i)"
   ]
  },
  {
   "cell_type": "code",
   "execution_count": 9,
   "metadata": {},
   "outputs": [
    {
     "name": "stdout",
     "output_type": "stream",
     "text": [
      "0 10\n",
      "1 15\n",
      "2 20\n",
      "3 25\n",
      "4 30\n",
      "5 35\n"
     ]
    }
   ],
   "source": [
    "for c,i in enumerate(range(10,40,5)):\n",
    "    print(c,i)"
   ]
  },
  {
   "cell_type": "code",
   "execution_count": 14,
   "metadata": {},
   "outputs": [
    {
     "name": "stdout",
     "output_type": "stream",
     "text": [
      "2000 10\n",
      "2010 20\n",
      "2020 30\n",
      "2030 40\n",
      "2040 50\n"
     ]
    }
   ],
   "source": [
    "for i in range(10,60,10):\n",
    "    print(1990 + i, i)"
   ]
  },
  {
   "cell_type": "code",
   "execution_count": 2,
   "metadata": {},
   "outputs": [
    {
     "data": {
      "text/plain": [
       "[(23, 10), (45, 20), (95, 30)]"
      ]
     },
     "execution_count": 2,
     "metadata": {},
     "output_type": "execute_result"
    }
   ],
   "source": [
    "tupl1=(23,45,95)\n",
    "mylist=[10,20,30]\n",
    "z=list(zip(tupl1,mylist))\n",
    "z"
   ]
  },
  {
   "cell_type": "code",
   "execution_count": 7,
   "metadata": {},
   "outputs": [
    {
     "name": "stdout",
     "output_type": "stream",
     "text": [
      "23 10\n",
      "45 20\n",
      "95 30\n"
     ]
    }
   ],
   "source": [
    "for m, n in z:\n",
    "    print(m,n)"
   ]
  },
  {
   "cell_type": "code",
   "execution_count": 21,
   "metadata": {},
   "outputs": [
    {
     "data": {
      "text/plain": [
       "([100, 200, 300], [40, 50, 60], [41, 51, 61])"
      ]
     },
     "execution_count": 21,
     "metadata": {},
     "output_type": "execute_result"
    }
   ],
   "source": [
    "l1=[100,200,300]\n",
    "l2=[40,50,60]\n",
    "l3=[41,51,61]\n",
    "l4=zip=(l1,l2,l3)\n",
    "l4"
   ]
  },
  {
   "cell_type": "code",
   "execution_count": 15,
   "metadata": {},
   "outputs": [
    {
     "name": "stdout",
     "output_type": "stream",
     "text": [
      "100 200 300\n",
      "40 50 60\n",
      "41 51 61\n"
     ]
    }
   ],
   "source": [
    "for i,j,k in l4:\n",
    "    print(i,j,k)"
   ]
  },
  {
   "cell_type": "code",
   "execution_count": 17,
   "metadata": {},
   "outputs": [
    {
     "name": "stdout",
     "output_type": "stream",
     "text": [
      "600\n",
      "150\n",
      "153\n"
     ]
    }
   ],
   "source": [
    " for i,j,k in l4:\n",
    "    print(i+j+k)"
   ]
  },
  {
   "cell_type": "code",
   "execution_count": 3,
   "metadata": {},
   "outputs": [
    {
     "data": {
      "text/plain": [
       "[('Lion', 'parrot'), ('tiger', 'peacock'), ('leaperd', 'sparow')]"
      ]
     },
     "execution_count": 3,
     "metadata": {},
     "output_type": "execute_result"
    }
   ],
   "source": [
    "animals=[\"Lion\",\"tiger\",\"leaperd\"]\n",
    "birds=[\"parrot\",\"peacock\",\"sparow\"]\n",
    "combo=list(zip(animals,birds))\n",
    "combo"
   ]
  },
  {
   "cell_type": "code",
   "execution_count": 23,
   "metadata": {},
   "outputs": [
    {
     "name": "stdout",
     "output_type": "stream",
     "text": [
      "Lion-parrot\n",
      "tiger-peacock\n",
      "leaperd-sparow\n"
     ]
    }
   ],
   "source": [
    "for i,j  in combo:\n",
    "    print(i +\"-\"+j)"
   ]
  },
  {
   "cell_type": "code",
   "execution_count": 9,
   "metadata": {},
   "outputs": [
    {
     "name": "stdout",
     "output_type": "stream",
     "text": [
      "('Lion', 'parrot')\n",
      "('tiger', 'peacock')\n",
      "('leaperd', 'sparow')\n"
     ]
    }
   ],
   "source": [
    "for i in combo:\n",
    "    print(i)"
   ]
  },
  {
   "cell_type": "code",
   "execution_count": 18,
   "metadata": {},
   "outputs": [
    {
     "name": "stdout",
     "output_type": "stream",
     "text": [
      "('Lion', 'parrot')\n",
      "('tiger', 'peacock')\n",
      "('leaperd', 'sparow')\n"
     ]
    }
   ],
   "source": [
    "for i in combo:\n",
    "     print(i)"
   ]
  },
  {
   "cell_type": "code",
   "execution_count": 58,
   "metadata": {
    "scrolled": true
   },
   "outputs": [
    {
     "data": {
      "text/plain": [
       "[('jan', 31),\n",
       " ('feb', 28),\n",
       " ('mar', 31),\n",
       " ('april', 30),\n",
       " ('may', 31),\n",
       " ('june', 30)]"
      ]
     },
     "execution_count": 58,
     "metadata": {},
     "output_type": "execute_result"
    }
   ],
   "source": [
    "m=['jan','feb','mar','april','may','june']\n",
    "n=(31,28,31,30,31,30)\n",
    "mn=list(zip(m,n))\n",
    "mn"
   ]
  },
  {
   "cell_type": "code",
   "execution_count": 71,
   "metadata": {},
   "outputs": [
    {
     "name": "stdout",
     "output_type": "stream",
     "text": [
      "jan = 31\n",
      "feb = 28\n",
      "mar = 31\n",
      "april = 30\n",
      "may = 31\n",
      "june = 30\n"
     ]
    }
   ],
   "source": [
    "for i in range(6):\n",
    "    print(m[i], \"=\", n[i])"
   ]
  },
  {
   "cell_type": "code",
   "execution_count": 66,
   "metadata": {},
   "outputs": [
    {
     "name": "stdout",
     "output_type": "stream",
     "text": [
      "0 = ('jan', 31)\n",
      "1 = ('feb', 28)\n",
      "2 = ('mar', 31)\n",
      "3 = ('april', 30)\n",
      "4 = ('may', 31)\n",
      "5 = ('june', 30)\n"
     ]
    }
   ],
   "source": [
    "for i,j in enumerate(mn):\n",
    "    print(i,\"=\",j)"
   ]
  },
  {
   "cell_type": "code",
   "execution_count": 57,
   "metadata": {},
   "outputs": [
    {
     "name": "stdout",
     "output_type": "stream",
     "text": [
      "apple =  5\n",
      "chips =  6\n",
      "banana =  1.2\n",
      "bread =  4.25\n"
     ]
    }
   ],
   "source": [
    "groceries=[\"apple\",\"chips\",\"banana\",\"bread\"]\n",
    "prices=[5,6,1.2,4.25]\n",
    "for i in range(4):\n",
    "    print(groceries[i], \"= \" ,prices[i])"
   ]
  },
  {
   "cell_type": "code",
   "execution_count": 49,
   "metadata": {},
   "outputs": [
    {
     "name": "stdout",
     "output_type": "stream",
     "text": [
      "apple = 5\n",
      "chips = 6\n",
      "banana = 1.2\n",
      "bread = 4.25\n"
     ]
    }
   ],
   "source": [
    "zip_shop=list(zip(groceries,prices))\n",
    "zip_shop\n",
    "for i,j in zip_shop:\n",
    "    print(i,\"=\",j)"
   ]
  },
  {
   "cell_type": "code",
   "execution_count": 74,
   "metadata": {},
   "outputs": [
    {
     "name": "stdout",
     "output_type": "stream",
     "text": [
      "100\n",
      "9\n",
      "20 20\n",
      "64\n"
     ]
    }
   ],
   "source": [
    "num1=[100,8,20,64]; num2=[12,9,20,45]\n",
    "zip_num=list(zip(num1,num2))\n",
    "\n",
    "for i, j in zip_num:\n",
    "    if i>j:\n",
    "        print(i)\n",
    "    elif i<j:\n",
    "        print(j)\n",
    "    else:\n",
    "        print(i,j)"
   ]
  },
  {
   "cell_type": "code",
   "execution_count": 75,
   "metadata": {},
   "outputs": [
    {
     "name": "stdout",
     "output_type": "stream",
     "text": [
      "100\n",
      "9\n",
      "20 20\n",
      "64\n"
     ]
    }
   ],
   "source": [
    "for i in range(4):\n",
    "    if num1[i]>num2[i]:\n",
    "        print(num1[i])\n",
    "    elif num1[i]<num2[i]:\n",
    "        print(num2[i])\n",
    "    else:\n",
    "        print(num1[i],num2[i])"
   ]
  },
  {
   "cell_type": "code",
   "execution_count": 87,
   "metadata": {},
   "outputs": [
    {
     "data": {
      "text/plain": [
       "[10, 20, 30, 40, 50]"
      ]
     },
     "execution_count": 87,
     "metadata": {},
     "output_type": "execute_result"
    }
   ],
   "source": [
    "num=list(range(10,60,10))\n",
    "num\n",
    "value=[2,5]\n",
    "\n",
    "calc=[]\n",
    "for i in range(len(num)):\n",
    "    for j in value:\n",
    "        s=num[i] *  j\n",
    "        calc.append(s)\n",
    "calc\n",
    "num"
   ]
  },
  {
   "cell_type": "code",
   "execution_count": 90,
   "metadata": {},
   "outputs": [
    {
     "data": {
      "text/plain": [
       "[20, 50, 40, 100, 60, 150, 80, 200, 100, 250]"
      ]
     },
     "execution_count": 90,
     "metadata": {},
     "output_type": "execute_result"
    }
   ],
   "source": [
    "calc"
   ]
  },
  {
   "cell_type": "code",
   "execution_count": 94,
   "metadata": {},
   "outputs": [
    {
     "data": {
      "text/plain": [
       "[(10, 2), (20, 5)]"
      ]
     },
     "execution_count": 94,
     "metadata": {},
     "output_type": "execute_result"
    }
   ],
   "source": [
    "zip_numval=list(zip(num,value))\n",
    "zip_numval"
   ]
  },
  {
   "cell_type": "code",
   "execution_count": 93,
   "metadata": {},
   "outputs": [
    {
     "data": {
      "text/plain": [
       "[(10, 2), (20, 5), (30, 2), (40, 5), (50, 2)]"
      ]
     },
     "execution_count": 93,
     "metadata": {},
     "output_type": "execute_result"
    }
   ],
   "source": [
    "import itertools\n",
    "from itertools import cycle as cy\n",
    "zip_val=list(zip(num,cy(value)))\n",
    "zip_val\n"
   ]
  },
  {
   "cell_type": "code",
   "execution_count": 101,
   "metadata": {},
   "outputs": [],
   "source": [
    "calc.clear()"
   ]
  },
  {
   "cell_type": "code",
   "execution_count": 102,
   "metadata": {},
   "outputs": [
    {
     "data": {
      "text/plain": [
       "[20, 100, 60, 200, 100]"
      ]
     },
     "execution_count": 102,
     "metadata": {},
     "output_type": "execute_result"
    }
   ],
   "source": [
    "for i, j in zip_val:\n",
    "    s= i * j\n",
    "    calc.append(s)\n",
    "calc"
   ]
  },
  {
   "cell_type": "code",
   "execution_count": 8,
   "metadata": {},
   "outputs": [
    {
     "data": {
      "text/plain": [
       "[40, 32, 30, 24, 25, 20, 50, 40]"
      ]
     },
     "execution_count": 8,
     "metadata": {},
     "output_type": "execute_result"
    }
   ],
   "source": [
    "list1=[8,6,5,10]\n",
    "list2=[5,4]\n",
    "\n",
    "list_val1=[5]; list_val2=[4]\n",
    "\n",
    "import itertools \n",
    "from itertools import cycle as cy\n",
    "\n",
    "zip_list=list(zip(list1,cy(list_val1),cy(list_val2)))\n",
    "\n",
    "zip_list\n",
    "new_list=[]\n",
    "\n",
    "for i,j,k in zip_list:\n",
    "    s= i * j\n",
    "    t=i * k\n",
    "    new_list.append(s)\n",
    "    new_list.append(t)\n",
    "new_list"
   ]
  },
  {
   "cell_type": "code",
   "execution_count": 10,
   "metadata": {},
   "outputs": [
    {
     "data": {
      "text/plain": [
       "[40, 30, 25, 50]"
      ]
     },
     "execution_count": 10,
     "metadata": {},
     "output_type": "execute_result"
    }
   ],
   "source": [
    "new=new_list[0:7:2]\n",
    "new"
   ]
  },
  {
   "cell_type": "code",
   "execution_count": null,
   "metadata": {},
   "outputs": [],
   "source": []
  },
  {
   "cell_type": "code",
   "execution_count": null,
   "metadata": {},
   "outputs": [],
   "source": []
  },
  {
   "cell_type": "code",
   "execution_count": null,
   "metadata": {},
   "outputs": [],
   "source": []
  },
  {
   "cell_type": "code",
   "execution_count": null,
   "metadata": {},
   "outputs": [],
   "source": []
  },
  {
   "cell_type": "code",
   "execution_count": null,
   "metadata": {},
   "outputs": [],
   "source": []
  },
  {
   "cell_type": "code",
   "execution_count": null,
   "metadata": {},
   "outputs": [],
   "source": []
  }
 ],
 "metadata": {
  "kernelspec": {
   "display_name": "Python 3",
   "language": "python",
   "name": "python3"
  },
  "language_info": {
   "codemirror_mode": {
    "name": "ipython",
    "version": 3
   },
   "file_extension": ".py",
   "mimetype": "text/x-python",
   "name": "python",
   "nbconvert_exporter": "python",
   "pygments_lexer": "ipython3",
   "version": "3.7.4"
  }
 },
 "nbformat": 4,
 "nbformat_minor": 2
}
