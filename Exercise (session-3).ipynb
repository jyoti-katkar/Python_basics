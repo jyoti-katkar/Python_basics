{
 "cells": [
  {
   "cell_type": "markdown",
   "metadata": {},
   "source": [
    "#                                # List Exercise"
   ]
  },
  {
   "cell_type": "markdown",
   "metadata": {},
   "source": [
    "#                # Task 1: ADD ALL DICTIONARY VALUES       \n",
    "        * Work with\n",
    "             toys = {\"robort\": \"$40.0\", \"car\": \"$25\", \"ironman\": \"$12\"}\n",
    "             \n",
    "        * Desired Output:\n",
    "               77  \n",
    "        * Hints?\n",
    "          1.Use the value() method\n",
    "          2.Use List.\n",
    "          3.Use the built-in python function, eval() to convert string to number.\n",
    "          4.Use list slicing with the appropriate index to grab the numbers. Add them together.\n",
    "          5.Use the int type."
   ]
  },
  {
   "cell_type": "code",
   "execution_count": 121,
   "metadata": {},
   "outputs": [],
   "source": [
    "toys = {\"robort\": \"$40.0\", \"car\": \"$25\", \"ironman\": \"$12\"}"
   ]
  },
  {
   "cell_type": "code",
   "execution_count": 141,
   "metadata": {},
   "outputs": [
    {
     "data": {
      "text/plain": [
       "dict_values(['$40.0', '$25', '$12'])"
      ]
     },
     "execution_count": 141,
     "metadata": {},
     "output_type": "execute_result"
    }
   ],
   "source": [
    "toys.values()"
   ]
  },
  {
   "cell_type": "code",
   "execution_count": 183,
   "metadata": {},
   "outputs": [],
   "source": [
    "num=eval(list(toys.values())[0][1:])+eval(list(toys.values())[1][1:])+eval(list(toys.values())[2][1:])"
   ]
  },
  {
   "cell_type": "code",
   "execution_count": 185,
   "metadata": {},
   "outputs": [
    {
     "data": {
      "text/plain": [
       "77"
      ]
     },
     "execution_count": 185,
     "metadata": {},
     "output_type": "execute_result"
    }
   ],
   "source": [
    "int(num)"
   ]
  },
  {
   "cell_type": "markdown",
   "metadata": {},
   "source": [
    "#                TASK 2: USE COMPARISON OPERATORS IN A LIST\n",
    "        WORK WITH\n",
    "           \n",
    "            !=\n",
    "            ==\n",
    "            in\n",
    "            \n",
    "        DESIRED OUTPUT:\n",
    "                [True, True, False, True, False]\n",
    "        HINTS?\n",
    "            1. Use only the three of the operators shown above."
   ]
  },
  {
   "cell_type": "code",
   "execution_count": 2,
   "metadata": {},
   "outputs": [],
   "source": [
    " questions = [10!=4, 50==50, 90==10, \"c\" in (\"a\", \"b\", \"c\"), 100!= 100]"
   ]
  },
  {
   "cell_type": "code",
   "execution_count": 3,
   "metadata": {},
   "outputs": [
    {
     "data": {
      "text/plain": [
       "[True, True, False, True, False]"
      ]
     },
     "execution_count": 3,
     "metadata": {},
     "output_type": "execute_result"
    }
   ],
   "source": [
    "questions"
   ]
  },
  {
   "cell_type": "code",
   "execution_count": null,
   "metadata": {},
   "outputs": [],
   "source": []
  },
  {
   "cell_type": "markdown",
   "metadata": {},
   "source": [
    "#               TASK 3: LEN KEY VALUES WITH COMPARISON OPERATORS\n",
    "            \n",
    "           * WORK WITH\n",
    "                films = {\"k1\": \"blade runner 2049\", \"k2\": \"matrix\", \"k3\": \"terminator\"}\n",
    "                <\n",
    "                >\n",
    "                len()\n",
    "                \n",
    "            * DESIRED OUTPUT:\n",
    "                True\n",
    "                \n",
    "            * HINTS?\n",
    "                1. Use only the two operators shown above.\n",
    "                2. Use the built-in function, len().\n",
    "                3. Use the operators in the same order as the dictionary keys.\n"
   ]
  },
  {
   "cell_type": "code",
   "execution_count": 4,
   "metadata": {},
   "outputs": [],
   "source": [
    "films = {\"k1\": \"blade runner 2049\", \"k2\": \"matrix\", \"k3\": \"terminator\"}"
   ]
  },
  {
   "cell_type": "code",
   "execution_count": 13,
   "metadata": {},
   "outputs": [
    {
     "data": {
      "text/plain": [
       "True"
      ]
     },
     "execution_count": 13,
     "metadata": {},
     "output_type": "execute_result"
    }
   ],
   "source": [
    "len(films[\"k1\"]) > len(films[\"k2\"]) < len(films[\"k3\"])"
   ]
  },
  {
   "cell_type": "code",
   "execution_count": null,
   "metadata": {},
   "outputs": [],
   "source": []
  },
  {
   "cell_type": "markdown",
   "metadata": {},
   "source": [
    "#                  TASK 4: UPDATE DICTIONARY\n",
    "        \n",
    "        * WORK WITH:\n",
    "                \n",
    "                life_stages = {0: \"embryo\", 1: \"fetus\", 2:\"baby\", 3:\"infant\",4: \"teen\"}\n",
    "       \n",
    "        * DESIRED OUTPUT:\n",
    "                {0: 'embryo', 1: 'fetus', 2: 'baby', 3: 'infant', 4: 'teen', 5: 'adult', 6: 'big kid!'}\n",
    "\n",
    "        * HINTS?\n",
    "            1. Create a new dictionary called midlife, with keys 5 and 6, and key values \"adult\" and \"big kid!\".\n",
    "            2. Add midlife dictionary to life_stages using one of the dictionary methods.\n"
   ]
  },
  {
   "cell_type": "code",
   "execution_count": 16,
   "metadata": {},
   "outputs": [
    {
     "data": {
      "text/plain": [
       "{0: 'embryo', 1: 'fetus', 2: 'baby', 3: 'infant', 4: 'teen'}"
      ]
     },
     "execution_count": 16,
     "metadata": {},
     "output_type": "execute_result"
    }
   ],
   "source": [
    "life_stages= {0: \"embryo\", 1: \"fetus\", 2:\"baby\", 3:\"infant\",4: \"teen\"}\n",
    "life_stages"
   ]
  },
  {
   "cell_type": "code",
   "execution_count": 17,
   "metadata": {},
   "outputs": [
    {
     "data": {
      "text/plain": [
       "{5: 'adult', 6: 'big kid!'}"
      ]
     },
     "execution_count": 17,
     "metadata": {},
     "output_type": "execute_result"
    }
   ],
   "source": [
    "midlife={5: \"adult\", 6: \"big kid!\"}\n",
    "midlife"
   ]
  },
  {
   "cell_type": "code",
   "execution_count": 18,
   "metadata": {},
   "outputs": [],
   "source": [
    "life_stages.update(midlife)"
   ]
  },
  {
   "cell_type": "code",
   "execution_count": 19,
   "metadata": {},
   "outputs": [
    {
     "data": {
      "text/plain": [
       "{0: 'embryo',\n",
       " 1: 'fetus',\n",
       " 2: 'baby',\n",
       " 3: 'infant',\n",
       " 4: 'teen',\n",
       " 5: 'adult',\n",
       " 6: 'big kid!'}"
      ]
     },
     "execution_count": 19,
     "metadata": {},
     "output_type": "execute_result"
    }
   ],
   "source": [
    "life_stages"
   ]
  },
  {
   "cell_type": "code",
   "execution_count": null,
   "metadata": {},
   "outputs": [],
   "source": []
  },
  {
   "cell_type": "markdown",
   "metadata": {},
   "source": [
    "#                 TASK 5: ADD ALL VALUES FROM LIST\n",
    "\n",
    "            * WORK WITH:\n",
    "            \n",
    "                    nest1 = [(1,2,3), {\"k1\": [8, 1, 300, 2, 77], \"k2\": [10,20,30]}, [\"a\",\"500\", \"c\"]]\n",
    "                    \n",
    "                    sorted()\n",
    "                    eval()\n",
    "            \n",
    "            * DESIRED OUTPUT:\n",
    "                       833.0\n",
    "            \n",
    "            * HINTS?\n",
    "                1. Add 3, 300, 30 and 500 together from each of the nested tuples, dictionaries or lists.\n",
    "                2. Use only the two built-in python functions shown above.\n",
    "                3. Use the Python built-in function, sorted for \"k1\".\n",
    "                4. For the nested dictionary,\"k1\", index only by -1, not 2.\n",
    "                5. Use the float.\n"
   ]
  },
  {
   "cell_type": "code",
   "execution_count": 20,
   "metadata": {},
   "outputs": [],
   "source": [
    "nest1=[(1,2,3), {\"k1\": [8, 1, 300, 2, 77], \"k2\": [10, 20, 30]}, [\"a\", \"500\",\"c\"]]"
   ]
  },
  {
   "cell_type": "code",
   "execution_count": 22,
   "metadata": {},
   "outputs": [
    {
     "data": {
      "text/plain": [
       "[(1, 2, 3), {'k1': [8, 1, 300, 2, 77], 'k2': [10, 20, 30]}, ['a', '500', 'c']]"
      ]
     },
     "execution_count": 22,
     "metadata": {},
     "output_type": "execute_result"
    }
   ],
   "source": [
    "nest1"
   ]
  },
  {
   "cell_type": "code",
   "execution_count": 84,
   "metadata": {},
   "outputs": [
    {
     "data": {
      "text/plain": [
       "833.0"
      ]
     },
     "execution_count": 84,
     "metadata": {},
     "output_type": "execute_result"
    }
   ],
   "source": [
    "float(nest1[0][2] + k1  + nest1[1][\"k2\"][2] + k2 )"
   ]
  },
  {
   "cell_type": "code",
   "execution_count": 85,
   "metadata": {},
   "outputs": [],
   "source": [
    "k1=sorted(nest1[1][\"k1\"])[-1]\n",
    "k2=eval(nest1[2][1])"
   ]
  },
  {
   "cell_type": "code",
   "execution_count": null,
   "metadata": {},
   "outputs": [],
   "source": []
  },
  {
   "cell_type": "markdown",
   "metadata": {},
   "source": [
    "#           TASK 6: ADD ALL LIST VALUES INTO A STRING\n",
    "   \n",
    "         * WORK WITH:\n",
    "         \n",
    "              prices = [\"a\", \"b\", \"9\", \"c\", \"d\", \"FOUR\", \"e\", \"f\", \"2.5\"]\n",
    "              \n",
    "              sentence = \"\"\"The bill for the {}#!/,?? {}#!/ ??and drink came to {}??\"\"\"\n",
    "         \n",
    "         * DESIRED OUTPUT:\n",
    "         \n",
    "            prices = [\"9\", \"FOUR\", \"2.5\"]\n",
    "           'The bill for the pizza, chips and drink came to $15.5'\n",
    "           \n",
    "         * HINTS?\n",
    "             1. Use the format function.\n",
    "             2. Use slicing and stride\n",
    "             3. Also use eval, len and str.\n",
    "             4. Add all the string numbers from the prices list.\n",
    "             5. Use the replace function twice.\n"
   ]
  },
  {
   "cell_type": "code",
   "execution_count": 38,
   "metadata": {},
   "outputs": [
    {
     "data": {
      "text/plain": [
       "['a', 'b', '9', 'c', 'd', 'FOUR', 'e', 'f', '2.5']"
      ]
     },
     "execution_count": 38,
     "metadata": {},
     "output_type": "execute_result"
    }
   ],
   "source": [
    "prices = [\"a\", \"b\", \"9\", \"c\", \"d\", \"FOUR\", \"e\", \"f\", \"2.5\"]\n",
    "prices"
   ]
  },
  {
   "cell_type": "code",
   "execution_count": 101,
   "metadata": {},
   "outputs": [],
   "source": [
    "sentence = \"\"\"The bill for the {}#!/,?? {}#!/ ??and drink came to {}??\"\"\""
   ]
  },
  {
   "cell_type": "code",
   "execution_count": 109,
   "metadata": {},
   "outputs": [],
   "source": [
    "price=prices[2::3]\n",
    "p=eval(price[0])\n",
    "c=len(price[1])\n",
    "d=eval(price[2])\n"
   ]
  },
  {
   "cell_type": "code",
   "execution_count": 110,
   "metadata": {},
   "outputs": [
    {
     "data": {
      "text/plain": [
       "'The bill for the pizza, chips and drink came to $15.5'"
      ]
     },
     "execution_count": 110,
     "metadata": {},
     "output_type": "execute_result"
    }
   ],
   "source": [
    "sentence.format(\"pizza\",\"chips\",\"$\" + str(p+c+d) ).replace(\"#!/\",\"\").replace(\"??\",\"\")\n"
   ]
  },
  {
   "cell_type": "code",
   "execution_count": 113,
   "metadata": {},
   "outputs": [
    {
     "data": {
      "text/plain": [
       "'15.5'"
      ]
     },
     "execution_count": 113,
     "metadata": {},
     "output_type": "execute_result"
    }
   ],
   "source": [
    "price=str(eval(prices[2::3][0]) + len(prices[2::3][1]) + eval(prices[2::3][2]))\n",
    "price"
   ]
  },
  {
   "cell_type": "code",
   "execution_count": null,
   "metadata": {},
   "outputs": [],
   "source": []
  },
  {
   "cell_type": "code",
   "execution_count": null,
   "metadata": {},
   "outputs": [],
   "source": []
  },
  {
   "cell_type": "code",
   "execution_count": null,
   "metadata": {},
   "outputs": [],
   "source": []
  }
 ],
 "metadata": {
  "kernelspec": {
   "display_name": "Python 3",
   "language": "python",
   "name": "python3"
  },
  "language_info": {
   "codemirror_mode": {
    "name": "ipython",
    "version": 3
   },
   "file_extension": ".py",
   "mimetype": "text/x-python",
   "name": "python",
   "nbconvert_exporter": "python",
   "pygments_lexer": "ipython3",
   "version": "3.7.4"
  }
 },
 "nbformat": 4,
 "nbformat_minor": 2
}
