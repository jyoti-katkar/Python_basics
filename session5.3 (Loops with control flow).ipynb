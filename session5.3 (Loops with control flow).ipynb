{
 "cells": [
  {
   "cell_type": "markdown",
   "metadata": {},
   "source": [
    "# Control Flow In Loops"
   ]
  },
  {
   "cell_type": "code",
   "execution_count": 5,
   "metadata": {},
   "outputs": [
    {
     "name": "stdout",
     "output_type": "stream",
     "text": [
      "Odd number :  1\n",
      "Even number :  2\n",
      "Odd number :  3\n",
      "Even number :  4\n",
      "Odd number :  5\n",
      "Even number :  6\n",
      "Odd number :  7\n",
      "Even number :  8\n",
      "Odd number :  9\n"
     ]
    }
   ],
   "source": [
    "for i in range(1,10):\n",
    "    \n",
    "    if i % 2 == 0:\n",
    "        print(\"Even number : \",i)\n",
    "    else:\n",
    "        print(\"Odd number : \",i)"
   ]
  },
  {
   "cell_type": "code",
   "execution_count": 7,
   "metadata": {},
   "outputs": [
    {
     "name": "stdout",
     "output_type": "stream",
     "text": [
      "1\n",
      "2\n",
      "3\n",
      "Morning!!\n",
      "5\n",
      "6\n",
      "Night!!\n",
      "8\n",
      "9\n",
      "10\n"
     ]
    }
   ],
   "source": [
    "for i in range(1,11):\n",
    "    if i == 4:\n",
    "        print(\"Morning!!\")\n",
    "    elif i == 7:\n",
    "        print(\"Night!!\")\n",
    "    else:\n",
    "        print(i)"
   ]
  },
  {
   "cell_type": "code",
   "execution_count": 10,
   "metadata": {},
   "outputs": [
    {
     "name": "stdout",
     "output_type": "stream",
     "text": [
      "Cool!\n",
      "Cool!\n",
      "Cool!\n",
      "Cool!\n",
      "Cool!\n",
      "Hello There!\n",
      "Cool!\n",
      "Cool!\n",
      "Good morning!\n"
     ]
    }
   ],
   "source": [
    "x=1\n",
    "while x < 10:\n",
    "    if x == 6:\n",
    "        print(\"Hello There!\")\n",
    "    elif x > 8:\n",
    "        print(\"Good morning!\")\n",
    "    else:\n",
    "        print (\"Cool!\")\n",
    "    x+=1"
   ]
  },
  {
   "cell_type": "code",
   "execution_count": 2,
   "metadata": {},
   "outputs": [
    {
     "name": "stdout",
     "output_type": "stream",
     "text": [
      "Cool!\n",
      "Cool!\n",
      "Cool!\n",
      "Cool!\n",
      "Cool!\n",
      "Hello There!\n",
      "Cool!\n",
      "Good morning!\n",
      "Cool!\n",
      "Cool!\n"
     ]
    }
   ],
   "source": [
    "for x in range(1,11):\n",
    "    if x == 6:\n",
    "        print(\"Hello There!\")\n",
    "    elif x == 8:\n",
    "        print(\"Good morning!\")\n",
    "    else:\n",
    "        print(\"Cool!\")\n",
    "    "
   ]
  },
  {
   "cell_type": "code",
   "execution_count": 13,
   "metadata": {},
   "outputs": [],
   "source": [
    "num=[10,12,8,14,20,45]\n",
    "res=[4,9,42,100,20,11]"
   ]
  },
  {
   "cell_type": "code",
   "execution_count": 4,
   "metadata": {},
   "outputs": [
    {
     "name": "stdout",
     "output_type": "stream",
     "text": [
      "Grater\n",
      "Grater\n",
      "Less\n",
      "Less\n",
      "Equals.\n",
      "Grater\n"
     ]
    }
   ],
   "source": [
    "x=0\n",
    "while x < len(num):\n",
    "    if num[x] == res[x]:\n",
    "        print(\"Equals\")\n",
    "    elif num[x] > res[x]:\n",
    "        print(\"Grater\")\n",
    "    else:\n",
    "        print(\"Less\")\n",
    "    x+=1\n",
    "        "
   ]
  },
  {
   "cell_type": "code",
   "execution_count": 18,
   "metadata": {},
   "outputs": [
    {
     "name": "stdout",
     "output_type": "stream",
     "text": [
      "Grater\n",
      "Grater\n",
      "Less\n",
      "Less\n",
      "Equals\n",
      "Grater\n"
     ]
    }
   ],
   "source": [
    "for x in range(len(num)):\n",
    "    if num[x] == res[x]:\n",
    "        print(\"Equals\")\n",
    "    elif num[x] > res[x]:\n",
    "        print(\"Grater\")\n",
    "    else:\n",
    "        print(\"Less\")\n",
    "    "
   ]
  },
  {
   "cell_type": "code",
   "execution_count": null,
   "metadata": {},
   "outputs": [],
   "source": []
  }
 ],
 "metadata": {
  "kernelspec": {
   "display_name": "Python 3",
   "language": "python",
   "name": "python3"
  },
  "language_info": {
   "codemirror_mode": {
    "name": "ipython",
    "version": 3
   },
   "file_extension": ".py",
   "mimetype": "text/x-python",
   "name": "python",
   "nbconvert_exporter": "python",
   "pygments_lexer": "ipython3",
   "version": "3.7.4"
  }
 },
 "nbformat": 4,
 "nbformat_minor": 2
}
