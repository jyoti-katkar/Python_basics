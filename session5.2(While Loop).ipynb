{
 "cells": [
  {
   "cell_type": "markdown",
   "metadata": {},
   "source": [
    "# WHILE LOOPS\n",
    "    * Similar to a for loop, while loops output each element, but based on a while statement being True.\n",
    "    * Once the while statement is no longer true, the while loop ends."
   ]
  },
  {
   "cell_type": "code",
   "execution_count": 3,
   "metadata": {
    "collapsed": true
   },
   "outputs": [
    {
     "name": "stdout",
     "output_type": "stream",
     "text": [
      "10\n",
      "20\n",
      "30\n",
      "40\n",
      "50\n",
      "60\n",
      "70\n",
      "80\n",
      "90\n",
      "100\n"
     ]
    }
   ],
   "source": [
    "\n",
    "num=10\n",
    "while num <= 100:\n",
    "    print(num)\n",
    "    num+=10"
   ]
  },
  {
   "cell_type": "code",
   "execution_count": 1,
   "metadata": {},
   "outputs": [
    {
     "name": "stdout",
     "output_type": "stream",
     "text": [
      " The multiplication is :  1\n",
      " The multiplication is :  2\n",
      " The multiplication is :  4\n",
      " The multiplication is :  8\n",
      " The multiplication is :  16\n"
     ]
    }
   ],
   "source": [
    "num = 1\n",
    "while num < 20:\n",
    "    print(\" The multiplication is : \",num)\n",
    "    num*=2"
   ]
  },
  {
   "cell_type": "code",
   "execution_count": 4,
   "metadata": {},
   "outputs": [
    {
     "name": "stdout",
     "output_type": "stream",
     "text": [
      "The multiplication is :  1000\n",
      "The multiplication is :  333.3333\n",
      "The multiplication is :  111.1111\n",
      "The multiplication is :  37.037\n",
      "The multiplication is :  12.3457\n"
     ]
    }
   ],
   "source": [
    "div=1000\n",
    "while div > 10:\n",
    "    print(\"The multiplication is : \",round(div,4))\n",
    "    div/=3"
   ]
  },
  {
   "cell_type": "code",
   "execution_count": 7,
   "metadata": {},
   "outputs": [
    {
     "name": "stdout",
     "output_type": "stream",
     "text": [
      "The floor is :  200\n",
      "The floor is :  100.0\n",
      "The floor is :  50.0\n",
      "The floor is :  25.0\n",
      "The floor is :  12.5\n"
     ]
    }
   ],
   "source": [
    "floor=200\n",
    "while floor > 10:\n",
    "    print(\"The floor is : \",floor)\n",
    "    floor/=2"
   ]
  },
  {
   "cell_type": "code",
   "execution_count": 9,
   "metadata": {},
   "outputs": [
    {
     "name": "stdout",
     "output_type": "stream",
     "text": [
      "Count down to left off in  10 seconds !\n",
      "Count down to left off in  9 seconds !\n",
      "Count down to left off in  8 seconds !\n",
      "Count down to left off in  7 seconds !\n",
      "Count down to left off in  6 seconds !\n",
      "Count down to left off in  5 seconds !\n",
      "Count down to left off in  4 seconds !\n",
      "Count down to left off in  3 seconds !\n",
      "Count down to left off in  2 seconds !\n",
      "Count down to left off in  1 seconds !\n",
      "blast off!\n"
     ]
    }
   ],
   "source": [
    "sub=10\n",
    "while sub > 0:\n",
    "    print(\"Count down to left off in \", str(sub) + \" seconds !\")\n",
    "    sub-=1\n",
    "    if sub == 0:\n",
    "        print(\"blast off!\")"
   ]
  },
  {
   "cell_type": "code",
   "execution_count": 10,
   "metadata": {},
   "outputs": [
    {
     "name": "stdout",
     "output_type": "stream",
     "text": [
      "1 + 1 = 2\n",
      "2 + 2 = 4\n",
      "3 + 3 = 6\n",
      "4 + 4 = 8\n",
      "5 + 5 = 10\n",
      "6 + 6 = 12\n",
      "7 + 7 = 14\n"
     ]
    }
   ],
   "source": [
    "p=1\n",
    "while p<8:\n",
    "    print(\"{} + {} = {}\".format(p, p, (p+p)))\n",
    "    p+=1\n",
    "    "
   ]
  },
  {
   "cell_type": "code",
   "execution_count": 13,
   "metadata": {},
   "outputs": [
    {
     "name": "stdout",
     "output_type": "stream",
     "text": [
      "1 * 1 = 1\n",
      "2 * 2 = 4\n",
      "3 * 3 = 9\n",
      "4 * 4 = 16\n",
      "5 * 5 = 25\n",
      "6 * 6 = 36\n",
      "7 * 7 = 49\n"
     ]
    }
   ],
   "source": [
    "a=1\n",
    "while a < 8:\n",
    "    print(\"%d * %d = %d\"%(a, a, (a*a)))\n",
    "    a+=1"
   ]
  },
  {
   "cell_type": "code",
   "execution_count": 18,
   "metadata": {
    "collapsed": true
   },
   "outputs": [
    {
     "name": "stdout",
     "output_type": "stream",
     "text": [
      "1.000000 / 1.000000 = 1.000000\n",
      "2.000000 / 2.000000 = 1.000000\n",
      "3.000000 / 3.000000 = 1.000000\n",
      "4.000000 / 4.000000 = 1.000000\n",
      "5.000000 / 5.000000 = 1.000000\n",
      "6.000000 / 6.000000 = 1.000000\n",
      "7.000000 / 7.000000 = 1.000000\n",
      "8.000000 / 8.000000 = 1.000000\n",
      "9.000000 / 9.000000 = 1.000000\n"
     ]
    }
   ],
   "source": [
    "p=1;q=1\n",
    "while p<10 and q<10:\n",
    "    print(\"%f / %f = %f\"%(p, q, (p/q)))\n",
    "    p+=1; q+=1"
   ]
  },
  {
   "cell_type": "code",
   "execution_count": 30,
   "metadata": {},
   "outputs": [
    {
     "name": "stdout",
     "output_type": "stream",
     "text": [
      "5 + 10 + 5 = 20\n",
      "6 + 11 + 6 = 23\n",
      "7 + 12 + 7 = 26\n",
      "8 + 13 + 8 = 29\n",
      "9 + 14 + 9 = 32\n",
      "10 + 15 + 10 = 35\n",
      "11 + 16 + 11 = 38\n"
     ]
    }
   ],
   "source": [
    "num=5; cake=10\n",
    "while num<12:\n",
    "    while cake<17:\n",
    "        print(\"{a} + {b} + {a} = {c}\".format(a=num, b=cake,c=cake+num+num))\n",
    "        num+=1; cake+=1"
   ]
  },
  {
   "cell_type": "code",
   "execution_count": 32,
   "metadata": {},
   "outputs": [
    {
     "name": "stdout",
     "output_type": "stream",
     "text": [
      "C#\n",
      "C\n",
      "Java\n",
      "CSS\n",
      "Julia\n"
     ]
    }
   ],
   "source": [
    "lang=[\"python\",\"C#\",\".net\",\"C\",\"C++\",\"Java\",\"Javascript\",\"CSS\",\\\n",
    "      \"HTML\",\"Julia\"]\n",
    "x=1\n",
    "while x < len(lang):\n",
    "    print(lang[x])\n",
    "    x+=2"
   ]
  },
  {
   "cell_type": "code",
   "execution_count": 33,
   "metadata": {},
   "outputs": [
    {
     "name": "stdout",
     "output_type": "stream",
     "text": [
      "0\n",
      "1\n",
      "2\n",
      "3\n",
      "4\n"
     ]
    }
   ],
   "source": [
    "g=0\n",
    "while g<5:\n",
    "    print(g); g+=1"
   ]
  },
  {
   "cell_type": "code",
   "execution_count": 34,
   "metadata": {},
   "outputs": [
    {
     "name": "stdout",
     "output_type": "stream",
     "text": [
      "0\n",
      "1\n",
      "2\n",
      "3\n",
      "4\n"
     ]
    }
   ],
   "source": [
    "for d in range(5):\n",
    "    print(d)"
   ]
  },
  {
   "cell_type": "code",
   "execution_count": 35,
   "metadata": {},
   "outputs": [
    {
     "name": "stdout",
     "output_type": "stream",
     "text": [
      "1 + 1= 2\n",
      "2 + 2= 4\n",
      "3 + 3= 6\n",
      "4 + 4= 8\n"
     ]
    }
   ],
   "source": [
    "a=1;b=1\n",
    "while a<5:\n",
    "    while b<5:\n",
    "        print(\"{} + {}= {}\".format(a, b, (a+b)))\n",
    "        a+=1;b+=1"
   ]
  },
  {
   "cell_type": "code",
   "execution_count": 44,
   "metadata": {
    "collapsed": true
   },
   "outputs": [
    {
     "name": "stdout",
     "output_type": "stream",
     "text": [
      "1 + 1= 2\n",
      "1 + 2= 3\n",
      "1 + 3= 4\n",
      "1 + 4= 5\n",
      "2 + 1= 3\n",
      "2 + 2= 4\n",
      "2 + 3= 5\n",
      "2 + 4= 6\n",
      "3 + 1= 4\n",
      "3 + 2= 5\n",
      "3 + 3= 6\n",
      "3 + 4= 7\n",
      "4 + 1= 5\n",
      "4 + 2= 6\n",
      "4 + 3= 7\n",
      "4 + 4= 8\n"
     ]
    }
   ],
   "source": [
    "for a in range(1,5):\n",
    "    for b in range(1,5):\n",
    "        print(\"{} + {}= {}\".format(a,b,(a+b)))\n",
    "    "
   ]
  },
  {
   "cell_type": "code",
   "execution_count": 45,
   "metadata": {},
   "outputs": [
    {
     "name": "stdout",
     "output_type": "stream",
     "text": [
      "1 + 1= 2\n",
      "2 + 2= 4\n",
      "3 + 3= 6\n",
      "4 + 4= 8\n"
     ]
    }
   ],
   "source": [
    "for t in range(1,5):\n",
    "     print(\"{} + {}= {}\".format(t,t,(t+t)))"
   ]
  },
  {
   "cell_type": "code",
   "execution_count": 51,
   "metadata": {},
   "outputs": [
    {
     "name": "stdout",
     "output_type": "stream",
     "text": [
      "While num:  10\n",
      "60\n",
      "30\n",
      "130\n",
      "While num:  30\n",
      "80\n",
      "50\n",
      "150\n",
      "While num:  50\n",
      "100\n",
      "70\n",
      "170\n",
      "While num:  70\n",
      "120\n",
      "90\n",
      "190\n",
      "While num:  90\n",
      "140\n",
      "110\n",
      "210\n"
     ]
    }
   ],
   "source": [
    "num=10\n",
    "while num<100:\n",
    "    print(\"While num: \",num)\n",
    "    for g in [50,20,120]:\n",
    "        res=num+g\n",
    "        print(res)\n",
    "    num+=20"
   ]
  },
  {
   "cell_type": "code",
   "execution_count": null,
   "metadata": {},
   "outputs": [],
   "source": []
  },
  {
   "cell_type": "code",
   "execution_count": null,
   "metadata": {},
   "outputs": [],
   "source": []
  },
  {
   "cell_type": "code",
   "execution_count": null,
   "metadata": {},
   "outputs": [],
   "source": []
  },
  {
   "cell_type": "code",
   "execution_count": null,
   "metadata": {},
   "outputs": [],
   "source": []
  },
  {
   "cell_type": "code",
   "execution_count": null,
   "metadata": {},
   "outputs": [],
   "source": []
  },
  {
   "cell_type": "code",
   "execution_count": null,
   "metadata": {},
   "outputs": [],
   "source": []
  },
  {
   "cell_type": "code",
   "execution_count": null,
   "metadata": {},
   "outputs": [],
   "source": []
  }
 ],
 "metadata": {
  "kernelspec": {
   "display_name": "Python 3",
   "language": "python",
   "name": "python3"
  },
  "language_info": {
   "codemirror_mode": {
    "name": "ipython",
    "version": 3
   },
   "file_extension": ".py",
   "mimetype": "text/x-python",
   "name": "python",
   "nbconvert_exporter": "python",
   "pygments_lexer": "ipython3",
   "version": "3.7.4"
  }
 },
 "nbformat": 4,
 "nbformat_minor": 2
}
