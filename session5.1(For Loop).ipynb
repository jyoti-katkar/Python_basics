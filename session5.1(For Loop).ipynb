{
 "cells": [
  {
   "cell_type": "markdown",
   "metadata": {},
   "source": [
    "# FOR LOOPS (Lists, Tuples and Dictionaries)\n",
    "\n",
    "    * for loops iterate over elements from a sequence (list, tuple or dictionary).\n",
    "    * Outputs all the elements from the sequence."
   ]
  },
  {
   "cell_type": "code",
   "execution_count": 2,
   "metadata": {},
   "outputs": [
    {
     "name": "stdout",
     "output_type": "stream",
     "text": [
      "0\n",
      "1\n",
      "2\n",
      "3\n",
      "4\n"
     ]
    }
   ],
   "source": [
    "for i in range(5):\n",
    "    print(i)"
   ]
  },
  {
   "cell_type": "code",
   "execution_count": 5,
   "metadata": {},
   "outputs": [
    {
     "name": "stdout",
     "output_type": "stream",
     "text": [
      "2\n",
      "4\n",
      "6\n",
      "8\n",
      "10\n"
     ]
    }
   ],
   "source": [
    "for i in range(2,12,2):\n",
    "    print(i)"
   ]
  },
  {
   "cell_type": "code",
   "execution_count": 9,
   "metadata": {},
   "outputs": [
    {
     "name": "stdout",
     "output_type": "stream",
     "text": [
      "Hello World!!\n",
      "Hello World!!\n",
      "Hello World!!\n"
     ]
    }
   ],
   "source": [
    "for greeting in range(3):\n",
    "    print(\"Hello World!!\")"
   ]
  },
  {
   "cell_type": "code",
   "execution_count": 34,
   "metadata": {},
   "outputs": [
    {
     "name": "stdout",
     "output_type": "stream",
     "text": [
      "tiger\n",
      "lion\n",
      "jaguar\n",
      "leopard\n"
     ]
    }
   ],
   "source": [
    "cats=[\"tiger\",\"lion\",\"jaguar\",\"leopard\"]\n",
    "for cat in cats:\n",
    "    print(cat)"
   ]
  },
  {
   "cell_type": "code",
   "execution_count": 11,
   "metadata": {},
   "outputs": [
    {
     "name": "stdout",
     "output_type": "stream",
     "text": [
      "0 30 0\n",
      "1 31 2\n",
      "2 32 4\n"
     ]
    }
   ],
   "source": [
    "for num in range(3):\n",
    "    print(num, num+30, num*2)"
   ]
  },
  {
   "cell_type": "code",
   "execution_count": 1,
   "metadata": {},
   "outputs": [],
   "source": [
    "nest=[[10,20,30,],[3.5,4.5,5.5],[\"sword\",\"hammer\",\"shield\"]]"
   ]
  },
  {
   "cell_type": "code",
   "execution_count": 27,
   "metadata": {},
   "outputs": [
    {
     "name": "stdout",
     "output_type": "stream",
     "text": [
      "[10, 20, 30]\n",
      "[3.5, 4.5, 5.5]\n",
      "['sword', 'hammer', 'shield']\n"
     ]
    }
   ],
   "source": [
    "for i in range(len(nest)):\n",
    "    \n",
    "    print(nest[i])\n",
    "    "
   ]
  },
  {
   "cell_type": "code",
   "execution_count": 2,
   "metadata": {},
   "outputs": [
    {
     "name": "stdout",
     "output_type": "stream",
     "text": [
      "Sword: Power level =  13.5\n",
      "Hammer: Power level =  24.5\n",
      "Shield: Power level =  35.5\n"
     ]
    }
   ],
   "source": [
    "for i in range(3):\n",
    "    res=nest[0][i] + nest[1][i]\n",
    "    \n",
    "    print(nest[2][i].capitalize() + \": Power level = \", res)"
   ]
  },
  {
   "cell_type": "code",
   "execution_count": 8,
   "metadata": {},
   "outputs": [
    {
     "name": "stdout",
     "output_type": "stream",
     "text": [
      "Sword : Power Level = 13.5\n",
      "Hammer : Power Level = 24.5\n",
      "Shield : Power Level = 35.5\n"
     ]
    }
   ],
   "source": [
    "weapons=[]\n",
    "for i in range(3):\n",
    "    \n",
    "    s=nest[2][i].capitalize() + \" : Power Level = \" + str(nest[0][i]+nest[1][i])\n",
    "    \n",
    "    weapons.append(s)\n",
    "    \n",
    "    print( weapons[i])"
   ]
  },
  {
   "cell_type": "code",
   "execution_count": 10,
   "metadata": {},
   "outputs": [
    {
     "name": "stdout",
     "output_type": "stream",
     "text": [
      "1 + 1 = 2\n",
      "2 + 2 = 4\n",
      "3 + 3 = 6\n",
      "4 + 4 = 8\n",
      "5 + 5 = 10\n",
      "6 + 6 = 12\n",
      "7 + 7 = 14\n"
     ]
    }
   ],
   "source": [
    "for i in range(1,8):\n",
    "    print(\"{} + {} = {}\".format(i,i,(i+i)))"
   ]
  },
  {
   "cell_type": "code",
   "execution_count": 11,
   "metadata": {},
   "outputs": [
    {
     "name": "stdout",
     "output_type": "stream",
     "text": [
      " 1 * 1 = 1\n",
      " 2 * 2 = 4\n",
      " 3 * 3 = 9\n",
      " 4 * 4 = 16\n",
      " 5 * 5 = 25\n",
      " 6 * 6 = 36\n",
      " 7 * 7 = 49\n"
     ]
    }
   ],
   "source": [
    "for k in range(1,8):\n",
    "    print(\" %d * %d = %d\"%(k, k, (k*k)))"
   ]
  },
  {
   "cell_type": "code",
   "execution_count": 19,
   "metadata": {},
   "outputs": [
    {
     "name": "stdout",
     "output_type": "stream",
     "text": [
      "10 20 30\n",
      "a b c\n",
      "200 400 800\n"
     ]
    }
   ],
   "source": [
    "tup=((10,20,30),(\"a\",\"b\",\"c\"),(200,400,800))\n",
    "#tuple unpacking !\n",
    "for x,y,z in tup:\n",
    "    print(x,y,z)   # x indicate 0 index element in each nested tuple and x,y for 1,2 respectively"
   ]
  },
  {
   "cell_type": "code",
   "execution_count": 20,
   "metadata": {},
   "outputs": [
    {
     "data": {
      "text/plain": [
       "{'k1': ('chocolate', 'lemon', 'carrot', 'vanilla'), 'k2': [10, 20, 30, 40]}"
      ]
     },
     "execution_count": 20,
     "metadata": {},
     "output_type": "execute_result"
    }
   ],
   "source": [
    "cakes=[\"chocolate\",\"lemon\",\"carrot\",\"vanilla\"]\n",
    "\n",
    "d1={\"k1\": tuple(cakes),\n",
    "    \"k2\": [10,20,30,40]\n",
    "   }\n",
    "d1"
   ]
  },
  {
   "cell_type": "code",
   "execution_count": 31,
   "metadata": {},
   "outputs": [
    {
     "name": "stdout",
     "output_type": "stream",
     "text": [
      "chocolate\n",
      "lemon\n",
      "carrot\n",
      "vanilla\n"
     ]
    }
   ],
   "source": [
    "for d in d1[\"k1\"]:\n",
    "    print(d)"
   ]
  },
  {
   "cell_type": "code",
   "execution_count": 32,
   "metadata": {},
   "outputs": [
    {
     "name": "stdout",
     "output_type": "stream",
     "text": [
      "k1  :  chocolate\n",
      "k1  :  lemon\n",
      "k1  :  carrot\n",
      "k1  :  vanilla\n",
      "k2  :  10\n",
      "k2  :  20\n",
      "k2  :  30\n",
      "k2  :  40\n"
     ]
    }
   ],
   "source": [
    "for x in d1:\n",
    "    for y in range(4):\n",
    "        print(x, \" : \",d1[x][y])"
   ]
  },
  {
   "cell_type": "code",
   "execution_count": 39,
   "metadata": {},
   "outputs": [
    {
     "name": "stdout",
     "output_type": "stream",
     "text": [
      "Tiger \n",
      " Level:\n",
      " SERIES\n",
      "Lion \n",
      " Level:\n",
      " CRITICAL\n",
      "Jaguar \n",
      " Level:\n",
      " VERY CRITICAL\n",
      "Leopard \n",
      " Level:\n",
      " STABLE\n"
     ]
    }
   ],
   "source": [
    "cats\n",
    "endangered=[\"series\",\"critical\",\"very critical\",\"stable\"]\n",
    "\n",
    "for c in range(4):\n",
    "    print(cats[c].capitalize(), \"\\n Level:\\n\",endangered[c].upper())"
   ]
  },
  {
   "cell_type": "code",
   "execution_count": null,
   "metadata": {},
   "outputs": [],
   "source": []
  }
 ],
 "metadata": {
  "kernelspec": {
   "display_name": "Python 3",
   "language": "python",
   "name": "python3"
  },
  "language_info": {
   "codemirror_mode": {
    "name": "ipython",
    "version": 3
   },
   "file_extension": ".py",
   "mimetype": "text/x-python",
   "name": "python",
   "nbconvert_exporter": "python",
   "pygments_lexer": "ipython3",
   "version": "3.7.4"
  }
 },
 "nbformat": 4,
 "nbformat_minor": 2
}
