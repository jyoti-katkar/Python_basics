{
 "cells": [
  {
   "cell_type": "markdown",
   "metadata": {},
   "source": [
    "# LIST COMPREHENSION EXERCISE"
   ]
  },
  {
   "cell_type": "markdown",
   "metadata": {},
   "source": [
    "#                TASK 1: CONVERT FOR LOOP TO LIST COMPREHENSION\n",
    "    \n",
    "            * WORK WITH:\n",
    "                        simple = []\n",
    "                        for i in range(10):\n",
    "                        s = i + 30\n",
    "                        simple.append(s)\n",
    "                        simple\n",
    "\n",
    "            * DESIRED OUT:\n",
    "                        [30, 31, 32, 33, 34, 35, 36, 37, 38, 39]\n",
    "            * HINTS?\n",
    "                1. List comprehension doesn't have any append function or empty list."
   ]
  },
  {
   "cell_type": "code",
   "execution_count": 2,
   "metadata": {},
   "outputs": [
    {
     "data": {
      "text/plain": [
       "[30, 31, 32, 33, 34, 35, 36, 37, 38, 39]"
      ]
     },
     "execution_count": 2,
     "metadata": {},
     "output_type": "execute_result"
    }
   ],
   "source": [
    "[i + 30 for i in range(10)]"
   ]
  },
  {
   "cell_type": "code",
   "execution_count": null,
   "metadata": {},
   "outputs": [],
   "source": []
  },
  {
   "cell_type": "markdown",
   "metadata": {},
   "source": [
    "#                   TASK 2: CONVERT WHILE LOOP INTO LIST COMPREHENSION\n",
    "\n",
    "            * WORK WITH:\n",
    "                    x= 0\n",
    "                    case = []\n",
    "                    while x < 10:\n",
    "                    s = \"The number is \" + str(x)\n",
    "                    case.append(s)\n",
    "                    x += 2\n",
    "                    case\n",
    "\n",
    "            * DESIRED OUTPUT:\n",
    "                    ['The number is 0',\n",
    "                    'The number is 2',\n",
    "                    'The number is 4',\n",
    "                    'The number is 6',\n",
    "                    'The number is 8']\n",
    "\n",
    "            * HINTS?\n",
    "                    1. Like task 1, remove the empty list and append function."
   ]
  },
  {
   "cell_type": "code",
   "execution_count": 6,
   "metadata": {},
   "outputs": [
    {
     "data": {
      "text/plain": [
       "['The number is 0',\n",
       " 'The number is 2',\n",
       " 'The number is 4',\n",
       " 'The number is 6',\n",
       " 'The number is 8']"
      ]
     },
     "execution_count": 6,
     "metadata": {},
     "output_type": "execute_result"
    }
   ],
   "source": [
    "[\"The number is \"+ str(s) for s in range(0,10,2)]"
   ]
  },
  {
   "cell_type": "code",
   "execution_count": null,
   "metadata": {},
   "outputs": [],
   "source": []
  },
  {
   "cell_type": "markdown",
   "metadata": {},
   "source": [
    "#     TASK 3:CONTROL FLOW WITH MODULUS IN LIST COMPREHENSION\n",
    "\n",
    "                * DESIRED OUTPUT:\n",
    "                        [1728, 2744, 4096, 5832]\n",
    "                        \n",
    "                * HINTS?\n",
    "                    1. Mulitply d by **3 or pow(d, 3).\n",
    "                    2. Use range(20).\n",
    "                    3. Use an if condition\n",
    "                    4. Use modulus where d % 2\n",
    "                    5. Use d > 10"
   ]
  },
  {
   "cell_type": "code",
   "execution_count": 11,
   "metadata": {},
   "outputs": [
    {
     "data": {
      "text/plain": [
       "[1728, 2744, 4096, 5832]"
      ]
     },
     "execution_count": 11,
     "metadata": {},
     "output_type": "execute_result"
    }
   ],
   "source": [
    "[pow(d,3) for d in range(20) if d % 2 == 0 and d > 10]"
   ]
  },
  {
   "cell_type": "code",
   "execution_count": null,
   "metadata": {},
   "outputs": [],
   "source": []
  },
  {
   "cell_type": "markdown",
   "metadata": {},
   "source": [
    "##          TASK 4: CREATE TWO NESTED LIST COMPREHENSIONS INSIDE A DICTIONARY\n",
    "\n",
    "            * DESIRED OUTPUT:\n",
    "                     d2 = {'k1': [0, 21, 42, 63, 84],\n",
    "                           'k2': [0, 1, 4, 9, 16, 25, 36, 49, 64, 81]}\n",
    "                     d3 = {'k3': [495]}\n",
    "\n",
    "            * HINTS?\n",
    "                1. Use the built-in sum() function twice for k3 dictionary.\n",
    "                2. For k1, use (g + 20 *g) with range(10) and g < 5\n",
    "                3. For k2, e*e with range(20) and e < 10\n",
    "                4. Use an if statement for both list comprehensions in k1 and k2.\n"
   ]
  },
  {
   "cell_type": "code",
   "execution_count": 43,
   "metadata": {},
   "outputs": [],
   "source": [
    "d2={\n",
    "    \"k1\":[g + 20 * g for g in range(10) if g < 5],\n",
    "    \"k2\":[e * e for e in range(20) if e < 10]\n",
    "}\n",
    "d3={\"k3\":[sum(d2[\"k1\"]) + sum(d2[\"k2\"])]}\n"
   ]
  },
  {
   "cell_type": "code",
   "execution_count": 39,
   "metadata": {},
   "outputs": [
    {
     "data": {
      "text/plain": [
       "{'k1': [0, 21, 42, 63, 84], 'k2': [0, 1, 4, 9, 16, 25, 36, 49, 64, 81]}"
      ]
     },
     "execution_count": 39,
     "metadata": {},
     "output_type": "execute_result"
    }
   ],
   "source": [
    "d2"
   ]
  },
  {
   "cell_type": "code",
   "execution_count": 44,
   "metadata": {},
   "outputs": [
    {
     "data": {
      "text/plain": [
       "{'k3': [495]}"
      ]
     },
     "execution_count": 44,
     "metadata": {},
     "output_type": "execute_result"
    }
   ],
   "source": [
    "d3"
   ]
  },
  {
   "cell_type": "code",
   "execution_count": null,
   "metadata": {},
   "outputs": [],
   "source": []
  },
  {
   "cell_type": "code",
   "execution_count": null,
   "metadata": {},
   "outputs": [],
   "source": []
  },
  {
   "cell_type": "code",
   "execution_count": null,
   "metadata": {},
   "outputs": [],
   "source": []
  }
 ],
 "metadata": {
  "kernelspec": {
   "display_name": "Python 3",
   "language": "python",
   "name": "python3"
  },
  "language_info": {
   "codemirror_mode": {
    "name": "ipython",
    "version": 3
   },
   "file_extension": ".py",
   "mimetype": "text/x-python",
   "name": "python",
   "nbconvert_exporter": "python",
   "pygments_lexer": "ipython3",
   "version": "3.7.4"
  }
 },
 "nbformat": 4,
 "nbformat_minor": 2
}
