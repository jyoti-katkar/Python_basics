{
 "cells": [
  {
   "cell_type": "markdown",
   "metadata": {},
   "source": [
    "#         CONTROL FLOW (IF, ELSE, ELIF)\n",
    "\n",
    "  IF, ELSE, ELIF:\n",
    "    \n",
    "            * Adds logic to our code\n",
    "            * The if statement performs a task if the condition is true.\n",
    "            * The else statement performs a default when the if statement's condition is false.\n",
    "            * Else statements cannot exist on their own.\n",
    "            * The elif statement (short for else if) works in between if and else statements.\n",
    "            * Elif only performs a task when true, and the if statement is false.\n",
    "    \n",
    "    \n",
    "    * The elif is short for else if. It allows us to check for multiple expressions.\n",
    "\n",
    "    * If the condition for if is False, it checks the condition of the next elif block and so on.\n",
    "\n",
    "    * If all the conditions are False, body of else is executed.\n",
    "\n",
    "    * Only one block among the several if...elif...else blocks is executed according to the condition.\n",
    "\n",
    "    * The if block can have only one else block. But it can have multiple elif blocks.\n",
    "    \n",
    "   DEPENDS ON INDENTATION !"
   ]
  },
  {
   "cell_type": "code",
   "execution_count": 13,
   "metadata": {},
   "outputs": [],
   "source": [
    "a = 10; b = 25; c=100; d = (\"cat\",\"dog\",\"bird\")"
   ]
  },
  {
   "cell_type": "code",
   "execution_count": 2,
   "metadata": {},
   "outputs": [
    {
     "name": "stdout",
     "output_type": "stream",
     "text": [
      "This is true!\n"
     ]
    }
   ],
   "source": [
    "if a == 10 and b < 40:\n",
    "    print(\"This is true!\")"
   ]
  },
  {
   "cell_type": "code",
   "execution_count": 6,
   "metadata": {},
   "outputs": [
    {
     "name": "stdout",
     "output_type": "stream",
     "text": [
      "This is true!\n"
     ]
    }
   ],
   "source": [
    "if a != 100:\n",
    "    if b < 40:\n",
    "        print(\"This is true!\")"
   ]
  },
  {
   "cell_type": "code",
   "execution_count": 7,
   "metadata": {},
   "outputs": [
    {
     "name": "stdout",
     "output_type": "stream",
     "text": [
      "This is false!\n"
     ]
    }
   ],
   "source": [
    "if a == 100 and b < 40:\n",
    "    print(\"This is true!\")\n",
    "else:\n",
    "    print(\"This is false!\")"
   ]
  },
  {
   "cell_type": "code",
   "execution_count": 8,
   "metadata": {},
   "outputs": [
    {
     "name": "stdout",
     "output_type": "stream",
     "text": [
      "a is true!\n",
      "b is true!\n"
     ]
    }
   ],
   "source": [
    "if a == 10 :\n",
    "    print(\"a is true!\")\n",
    "    \n",
    "    if b<40:\n",
    "        print(\"b is true!\")\n",
    "    \n",
    "    else:\n",
    "        print(\"b is false!\")\n",
    "\n",
    "else:\n",
    "    print(\"a is false!\")"
   ]
  },
  {
   "cell_type": "code",
   "execution_count": 21,
   "metadata": {},
   "outputs": [
    {
     "name": "stdout",
     "output_type": "stream",
     "text": [
      "a is true!\n",
      "b is true!\n",
      "c is true!\n",
      "d is true!\n"
     ]
    }
   ],
   "source": [
    "if a == 10:\n",
    "    print(\"a is true!\")\n",
    "    \n",
    "    if b < 40:\n",
    "        print(\"b is true!\")\n",
    "        \n",
    "        if c > 40:\n",
    "            print(\"c is true!\")\n",
    "            \n",
    "            if \"cat\" in d:\n",
    "                print(\"d is true!\")\n",
    "            else:\n",
    "                print(\"d is false!\")\n",
    "        else:\n",
    "            print(\"c is false!\")\n",
    "    else:\n",
    "        print(\"b is false!\")\n",
    "\n",
    "else:\n",
    "    print(\"a is false!\")"
   ]
  },
  {
   "cell_type": "code",
   "execution_count": 35,
   "metadata": {},
   "outputs": [
    {
     "data": {
      "text/plain": [
       "('cat', 'dog', 'bird')"
      ]
     },
     "execution_count": 35,
     "metadata": {},
     "output_type": "execute_result"
    }
   ],
   "source": [
    "\n",
    "type(d)\n",
    "d"
   ]
  },
  {
   "cell_type": "code",
   "execution_count": 42,
   "metadata": {},
   "outputs": [
    {
     "name": "stdout",
     "output_type": "stream",
     "text": [
      "Enter a number :0\n",
      "Found a cat\n"
     ]
    }
   ],
   "source": [
    "num=eval(input(\"Enter a number :\"))\n",
    "\n",
    "if num >= 3 :\n",
    "    print(\"Keep looking..\")   \n",
    "elif d[num] == \"cat\":\n",
    "    print(\"Found a {}\".format(d[num]))   \n",
    "elif d[num] == \"dog\":\n",
    "    print(\"Found a {}\".format(d[num]))   \n",
    "else:\n",
    "    print(\"Found birds\")"
   ]
  },
  {
   "cell_type": "code",
   "execution_count": 10,
   "metadata": {},
   "outputs": [
    {
     "data": {
      "text/plain": [
       "[[0, 1, 2, 3, 4, 5, 6, 7, 8, 9, 10],\n",
       " [11, 12, 13, 14, 15, 16, 17, 18, 19, 20],\n",
       " [21, 22, 23, 24, 25, 26, 27, 28, 29, 30]]"
      ]
     },
     "execution_count": 10,
     "metadata": {},
     "output_type": "execute_result"
    }
   ],
   "source": [
    "total=[list(range(11)),list(range(11,21)),list(range(21,31))]\n",
    "total"
   ]
  },
  {
   "cell_type": "code",
   "execution_count": 12,
   "metadata": {},
   "outputs": [
    {
     "name": "stdout",
     "output_type": "stream",
     "text": [
      "Enter a number: 56\n",
      " 56 is not in any set \n"
     ]
    }
   ],
   "source": [
    "num=eval(input(\"Enter a number: \"))\n",
    "\n",
    "if num in total[0]:\n",
    "    print(\" {} is in set one\".format(num))\n",
    "    \n",
    "elif num in total[1]:\n",
    "    print(\" {} is in set two\".format(num))\n",
    "    \n",
    "elif num in total[2]:\n",
    "    print(\" {} is in set three\".format(num))\n",
    "\n",
    "else:\n",
    "    print(\" {} is not in any set \".format(num))"
   ]
  },
  {
   "cell_type": "code",
   "execution_count": 54,
   "metadata": {},
   "outputs": [
    {
     "name": "stdout",
     "output_type": "stream",
     "text": [
      "Enter number: 3\n",
      " 3 is odd number.\n"
     ]
    }
   ],
   "source": [
    "num=int(input(\"Enter number: \"))\n",
    "\n",
    "if num % 2 == 0:\n",
    "    print(\" %d is even number.\"%(num))\n",
    "else:\n",
    "    print(\" %d is odd number.\"%(num))"
   ]
  },
  {
   "cell_type": "code",
   "execution_count": null,
   "metadata": {},
   "outputs": [],
   "source": []
  }
 ],
 "metadata": {
  "kernelspec": {
   "display_name": "Python 3",
   "language": "python",
   "name": "python3"
  },
  "language_info": {
   "codemirror_mode": {
    "name": "ipython",
    "version": 3
   },
   "file_extension": ".py",
   "mimetype": "text/x-python",
   "name": "python",
   "nbconvert_exporter": "python",
   "pygments_lexer": "ipython3",
   "version": "3.7.4"
  }
 },
 "nbformat": 4,
 "nbformat_minor": 2
}
