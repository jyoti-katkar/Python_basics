{
 "cells": [
  {
   "cell_type": "markdown",
   "metadata": {},
   "source": [
    "#                                Loop Exercise"
   ]
  },
  {
   "cell_type": "code",
   "execution_count": null,
   "metadata": {},
   "outputs": [],
   "source": [
    "#           TASK 1: CONVERT FOR LOOP INTO A WHILE LOOP\n",
    "    \n",
    "   * WORK WITH\n",
    "        numbers = list(range(0, 110, 10))\n",
    "        numbers = [0, 10, 20, 30, 40, 50, 60, 70, 80, 90, 100]\n",
    "        \n",
    "        first = []\n",
    "        for num in numbers:\n",
    "            s = num *2.5\n",
    "            if s % 2 == 0:\n",
    "        \n",
    "                first.append(s)\n",
    "        first\n",
    "    \n",
    "   * DESIRED OUTPUT\n",
    "    [0, 50, 100, 150, 200, 250]\n",
    "\n",
    "   * HINTS?\n",
    "        1. For the while loop, have x < len(numbers).\n",
    "        2. The most import line of code in a while loop to prevent an INFINITE LOOP is x += 1.\n",
    "        3. Create an empty list called second.\n",
    "        4. Start with an initial value of 0."
   ]
  },
  {
   "cell_type": "code",
   "execution_count": 16,
   "metadata": {},
   "outputs": [
    {
     "data": {
      "text/plain": [
       "[0, 50, 100, 150, 200, 250]"
      ]
     },
     "execution_count": 16,
     "metadata": {},
     "output_type": "execute_result"
    }
   ],
   "source": [
    "numbers = list(range(0, 110, 10))\n",
    "#numbers = [0, 10, 20, 30, 40, 50, 60, 70, 80, 90, 100]\n",
    "numbers\n",
    "\n",
    "second=[]\n",
    "\n",
    "x=0\n",
    "while x <len(numbers):\n",
    "    s = numbers[x] * 2.5\n",
    "    if s % 2 == 0:\n",
    "        second.append(int(s))\n",
    "    x+=1\n",
    "\n",
    "second"
   ]
  },
  {
   "cell_type": "markdown",
   "metadata": {},
   "source": [
    "#           TASK 2: USE LEN WITH CONTROL FLOW IN A FOR LOOP\n",
    "\n",
    "       * WORK WITH\n",
    "                rep = [\"Joe\", \"K\", \"Mike\", \"Joi\", \"Luv\", \"Deckard\", \"Wallace\", \"Rachel\"]\n",
    "        \n",
    "       * DESIRED OUTPUT\n",
    "            Joe is a replicant\n",
    "            Mike is NOT a replicant\n",
    "            Joi is a replicant\n",
    "            Luv is a replicant\n",
    "            Deckard is NOT a replicant\n",
    "            Wallace is NOT a replicant\n",
    "            Rachel is a replicant\n",
    "\n",
    "       * HINTS?\n",
    "            1. In the for loop, use the len function three times\n",
    "            2. Use the print statement twice.\n",
    "            3. The if statement requires three or operators.\n",
    "                "
   ]
  },
  {
   "cell_type": "code",
   "execution_count": 19,
   "metadata": {},
   "outputs": [
    {
     "name": "stdout",
     "output_type": "stream",
     "text": [
      "Joe is a replicant\n",
      "Mike  is NOT a replicant\n",
      "Joi is a replicant\n",
      "Luv is a replicant\n",
      "Deckard  is NOT a replicant\n",
      "Wallace  is NOT a replicant\n",
      "Rachel is a replicant\n"
     ]
    }
   ],
   "source": [
    "rep = [\"Joe\", \"Mike\", \"Joi\", \"Luv\", \"Deckard\", \"Wallace\", \"Rachel\"]\n",
    "\n",
    "rep\n",
    "\n",
    "for i in rep:\n",
    "    if len(i) == 3 or len(i) == 6:\n",
    "        print(i,\"is a replicant\")\n",
    "    else:\n",
    "         print(i,\" is NOT a replicant\")\n",
    "    \n",
    "    "
   ]
  },
  {
   "cell_type": "code",
   "execution_count": null,
   "metadata": {},
   "outputs": [],
   "source": []
  },
  {
   "cell_type": "markdown",
   "metadata": {},
   "source": [
    "#                    TASK 3: FOR LOOP WITH NESTED WHILE LOOP\n",
    "            \n",
    "        WORK WITH\n",
    "                # Add Code Here\n",
    "                for r in range(2):\n",
    "                    # Add Code Here\n",
    "                    # Add Code Here\n",
    "                        # Add Code VV\n",
    "                        k % 2 == 0:\n",
    "                            print(\"Question\")\n",
    "                        # Add Code VV\n",
    "                        k > 3 and k < 7:\n",
    "                            print(\"CELL\")\n",
    "                        # Add Code VV\n",
    "                        k == 3:\n",
    "                            print(\"INTERLINKED\")\n",
    "                        # Add Code HERE\n",
    "                            print(\"CELL WITHIN CELLS\")\n",
    "                        # Add Code HERE!!!\n",
    "                # Add Code Here\n",
    "        \n",
    "        DESIRED OUTPUT\n",
    "                Human\n",
    "                Question\n",
    "                CELL WITHIN CELLS\n",
    "                Question\n",
    "                INTERLINKED\n",
    "                Question\n",
    "                CELL\n",
    "                Question\n",
    "                CELL WITHIN CELLS\n",
    "                Question\n",
    "                CELL WITHIN CELLS\n",
    "                Question\n",
    "                INTERLINKED\n",
    "                Question\n",
    "                CELL\n",
    "                Question\n",
    "                CELL WITHIN CELLS\n",
    "                Time to Finish\n",
    "        \n",
    "        HINTS?\n",
    "                1. Use a for loop with range to repeat while loop\n",
    "                2. Use k += 1 with while loop and k < 8.\n",
    "                3. Use if, 2 elif statements, and an else statement in your while loop.\n",
    "                4. Total of 6 different print statements. 4 are inside the while loop."
   ]
  },
  {
   "cell_type": "code",
   "execution_count": 1,
   "metadata": {},
   "outputs": [
    {
     "name": "stdout",
     "output_type": "stream",
     "text": [
      "Human\n",
      "Question\n",
      "CELL WITHIN CELLS\n",
      "Question\n",
      "INTERLINKED\n",
      "Question\n",
      "CELL\n",
      "Question\n",
      "CELL WITHIN CELLS\n",
      "Question\n",
      "CELL WITHIN CELLS\n",
      "Question\n",
      "INTERLINKED\n",
      "Question\n",
      "CELL\n",
      "Question\n",
      "CELL WITHIN CELLS\n",
      "Time to Finish\n"
     ]
    }
   ],
   "source": [
    "print(\"Human\")\n",
    "for r in range(2):\n",
    "    k=0\n",
    "    while k < 8:\n",
    "        if k % 2 == 0:\n",
    "             print(\"Question\")\n",
    "        elif k > 3 and k < 7:\n",
    "             print(\"CELL\")\n",
    "        elif k == 3:\n",
    "             print(\"INTERLINKED\")\n",
    "        else:\n",
    "             print(\"CELL WITHIN CELLS\")\n",
    "            \n",
    "        k+=1          \n",
    "                \n",
    "print(\"Time to Finish\")"
   ]
  },
  {
   "cell_type": "code",
   "execution_count": null,
   "metadata": {},
   "outputs": [],
   "source": []
  },
  {
   "cell_type": "markdown",
   "metadata": {},
   "source": [
    "#                TASK 4: NESTED FOR LOOP IN A WHILE LOOP\n",
    "    \n",
    "        WORK WITH\n",
    "             print(\"Y =\", y)\n",
    "                    print(\"________\")\n",
    "                    print(\"X is equal to\", x)\n",
    "                    print(\"________\")\n",
    "        \n",
    "        DESIRED OUTPUT\n",
    "                `python\n",
    "                START\n",
    "                Y = 0\n",
    "                ________\n",
    "                X is equal to 4\n",
    "                ________\n",
    "                Y = 2\n",
    "                ________\n",
    "                X is equal to 5\n",
    "                ________\n",
    "                Y = 4\n",
    "                ________\n",
    "                X is equal to 6\n",
    "                ________\n",
    "                Y = 6\n",
    "                ________\n",
    "                X is equal to 7\n",
    "                ________\n",
    "                Y = 8\n",
    "                ________\n",
    "                X is equal to 8\n",
    "                ________\n",
    "                END\n",
    "\n",
    "        HINTS?\n",
    "            1. Code a nested for loop inside a while loop with y < 8.\n",
    "            2. Initial values for y and x are 0\n",
    "            3. Two print statements outside the while loop\n",
    "            4. Use a range of 4 to 9 in the for loop."
   ]
  },
  {
   "cell_type": "code",
   "execution_count": 3,
   "metadata": {},
   "outputs": [
    {
     "name": "stdout",
     "output_type": "stream",
     "text": [
      "`Python\n",
      "START\n",
      "Y = 0\n",
      "________\n",
      "X is equal to 4\n",
      "________\n",
      "Y = 2\n",
      "________\n",
      "X is equal to 5\n",
      "________\n",
      "Y = 4\n",
      "________\n",
      "X is equal to 6\n",
      "________\n",
      "Y = 6\n",
      "________\n",
      "X is equal to 7\n",
      "________\n",
      "Y = 8\n",
      "________\n",
      "X is equal to 8\n",
      "________\n",
      "End\n"
     ]
    }
   ],
   "source": [
    "y=x=0\n",
    "print(\"`Python\")\n",
    "print(\"START\")\n",
    "while y < 8:\n",
    "     for x in range(4,9):\n",
    "        print(\"Y =\", y)\n",
    "        print(\"________\")\n",
    "        print(\"X is equal to\", x)\n",
    "        print(\"________\")\n",
    "        y+=2             \n",
    "print(\"End\")      "
   ]
  },
  {
   "cell_type": "code",
   "execution_count": null,
   "metadata": {},
   "outputs": [],
   "source": []
  },
  {
   "cell_type": "markdown",
   "metadata": {},
   "source": [
    "#            TASK 5: FOR LOOP TO FIX STUDENT NAMES\n",
    "\n",
    "       * WORK WITH\n",
    "            students = [\"nAtalie\", \"M\", \"Fa ye\", \" Callum\", \"Tara\"]\n",
    "\n",
    "       * DESIRED OUTPUT\n",
    "                ('NATALIE', 'FAYE', 'TARA', 'CALLUM')\n",
    "\n",
    "       * HINTS?\n",
    "            1. Create an empty list.\n",
    "            2. Use len built-in function.\n",
    "            3. Use also the upper, replace and append methods for list\n",
    "            4. Lastly, convert output to a tuple.\n"
   ]
  },
  {
   "cell_type": "code",
   "execution_count": 4,
   "metadata": {},
   "outputs": [
    {
     "data": {
      "text/plain": [
       "('NATALIE', 'FAYE', 'CALLUM', 'TARA')"
      ]
     },
     "execution_count": 4,
     "metadata": {},
     "output_type": "execute_result"
    }
   ],
   "source": [
    "students = [\"nAtalie\", \"M\", \"Fa ye\", \" Callum\", \"Tara\"]\n",
    "\n",
    "stud=[]\n",
    "for i in range(5):\n",
    "    if len(students[i])>1:\n",
    "        s=students[i].upper().replace(\" \",\"\")\n",
    "        stud.append(s)\n",
    "tuple(stud) "
   ]
  },
  {
   "cell_type": "code",
   "execution_count": 6,
   "metadata": {},
   "outputs": [
    {
     "data": {
      "text/plain": [
       "('NATALIE', 'FAYE', 'CALLUM', 'TARA')"
      ]
     },
     "execution_count": 6,
     "metadata": {},
     "output_type": "execute_result"
    }
   ],
   "source": [
    "name=[]\n",
    "for i in students:\n",
    "    if len(i) > 1:\n",
    "        s= i.upper().replace(\" \",\"\")\n",
    "        name.append(s)\n",
    "tuple(stud)"
   ]
  },
  {
   "cell_type": "code",
   "execution_count": null,
   "metadata": {},
   "outputs": [],
   "source": []
  },
  {
   "cell_type": "markdown",
   "metadata": {},
   "source": [
    "#            TASK 6: FOR LOOP WITH ADDED VALUES FROM DICTIONARY\n",
    "        \n",
    "        * WORK WITH:\n",
    "                  d1 = {\"k1\": [20, 30, 40], \"k2\": [1000, 2000, 3000]}\n",
    "\n",
    "        * DESIRED OUTPUT:\n",
    "        \n",
    "                Total = 1020\n",
    "                Total = 2030\n",
    "                Total = 3040\n",
    "                End loop\n",
    "\n",
    "        * HINTS?\n",
    "            1. Use one for loop with range.\n",
    "            2. Add the values from both keys together\n"
   ]
  },
  {
   "cell_type": "code",
   "execution_count": 16,
   "metadata": {},
   "outputs": [
    {
     "name": "stdout",
     "output_type": "stream",
     "text": [
      "Total =  1020\n",
      "Total =  2030\n",
      "Total =  3040\n",
      "End loop\n"
     ]
    }
   ],
   "source": [
    "d1 = {\"k1\": [20, 30, 40], \"k2\": [1000, 2000, 3000]}\n",
    "\n",
    "for i in range(3):\n",
    "    print(\"Total = \", d1[\"k1\"][i] + d1[\"k2\"][i])\n",
    "print(\"End loop\")"
   ]
  },
  {
   "cell_type": "code",
   "execution_count": null,
   "metadata": {},
   "outputs": [],
   "source": []
  },
  {
   "cell_type": "markdown",
   "metadata": {},
   "source": [
    "#                    TASK 7: WHILE LOOPS WITH THREE INPUTS\n",
    "\n",
    "            * WORK WITH:\n",
    "                    prices = {\"popcorn\": 5, \"soda\": 2, \"veggie burger\": 7}\n",
    "                    total = []\n",
    "                   \n",
    "                   val = 0\n",
    "                    while val < 2:\n",
    "                        num1 = input(\"Would you like popcorn with the film? \")\n",
    "                        if num1 == \"no\":\n",
    "                            None\n",
    "                        elif num1 == \"quit\":\n",
    "                            print(\"Enjoy the film\")\n",
    "                            break\n",
    "                    \n",
    "                   print(\"That will be $\" + str(sum(total)))\n",
    "                   print(\"Enjoy the film!\")\n",
    "                    \n",
    "            * DESIRED OUTPUT:\n",
    "            \n",
    "                        1st EXAMPLE\n",
    "                        Would you like popcorn with the film? no\n",
    "                        Would you like a soda drink? no\n",
    "                        Would you like a veggie burger?no\n",
    "                        That will be $0\n",
    "                        Enjoy the film!\n",
    "                        2nd EXAMPLE\n",
    "                        Would you like popcorn with the film? yes\n",
    "                        Would you like a soda drink? yes\n",
    "                        Would you like a veggie burger?no\n",
    "                        That will be $7\n",
    "                        Enjoy the film!\n",
    "                        3rd EXAMPLE\n",
    "                        Would you like popcorn with the film? quit\n",
    "                        Enjoy the film\n",
    "\n",
    "            * HINTS?\n",
    "                    1. Create two more inputs and name them num2 and num3.\n",
    "                    2. For num2, print would you like a soda? and for num3, print would you like a veggie burger?\n",
    "                    3. Use the append function three times by grabbing values from the prices dictionary.\n",
    "                    4. Use the break statement a total of 4 times.\n",
    "                    5. Make sure you have the += 1 to prevent an INFINITE LOOP!\n",
    "                    6. Use three else statements."
   ]
  },
  {
   "cell_type": "code",
   "execution_count": 2,
   "metadata": {},
   "outputs": [
    {
     "name": "stdout",
     "output_type": "stream",
     "text": [
      "Would you like popcorn with the film? yes\n",
      "Would you like soda?no\n",
      "Would you like a veggie burger?yes\n",
      "That will be $12\n",
      "Enjoy the film!\n"
     ]
    }
   ],
   "source": [
    "prices = {\"popcorn\": 5, \"soda\": 2, \"veggie burger\": 7}\n",
    "total = []\n",
    "\n",
    "val = 0\n",
    "while val < 2:\n",
    "    \n",
    "    num1 = input(\"Would you like popcorn with the film? \")\n",
    "    if num1 == \"no\":\n",
    "        None\n",
    "    elif num1 == \"quit\":\n",
    "        print(\"Enjoy the film\")\n",
    "        break\n",
    "    else:\n",
    "        total.append(prices[\"popcorn\"])\n",
    "    \n",
    "    num2=input(\"Would you like soda?\")\n",
    "    if num2 == \"no\":\n",
    "        None\n",
    "    elif num2 == \"quit\":\n",
    "        print(\"Enjoy the film\")\n",
    "        break\n",
    "    else:\n",
    "        total.append(prices[\"soda\"])\n",
    "    \n",
    "    num3=input(\"Would you like a veggie burger?\")\n",
    "    if num3 == \"no\":\n",
    "        None\n",
    "    elif num3 == \"quit\":\n",
    "        print(\"Enjoy the film\")\n",
    "        break\n",
    "    else:\n",
    "        total.append(prices[\"veggie burger\"])\n",
    "    \n",
    "    val+=1\n",
    "\n",
    "    print(\"That will be $\" + str(sum(total)))\n",
    "    print(\"Enjoy the film!\")\n",
    "    break\n",
    "                   "
   ]
  },
  {
   "cell_type": "code",
   "execution_count": 2,
   "metadata": {},
   "outputs": [],
   "source": [
    "total.clear()"
   ]
  },
  {
   "cell_type": "code",
   "execution_count": null,
   "metadata": {},
   "outputs": [],
   "source": []
  },
  {
   "cell_type": "code",
   "execution_count": null,
   "metadata": {},
   "outputs": [],
   "source": []
  }
 ],
 "metadata": {
  "kernelspec": {
   "display_name": "Python 3",
   "language": "python",
   "name": "python3"
  },
  "language_info": {
   "codemirror_mode": {
    "name": "ipython",
    "version": 3
   },
   "file_extension": ".py",
   "mimetype": "text/x-python",
   "name": "python",
   "nbconvert_exporter": "python",
   "pygments_lexer": "ipython3",
   "version": "3.7.4"
  }
 },
 "nbformat": 4,
 "nbformat_minor": 2
}
